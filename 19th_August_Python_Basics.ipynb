{
 "cells": [
  {
   "cell_type": "markdown",
   "id": "834e22bb-37e3-4925-8029-0256e6b4e371",
   "metadata": {},
   "source": [
    "### Python Basic Variable"
   ]
  },
  {
   "cell_type": "markdown",
   "id": "18c82375-8557-41e0-bbe0-7b73128ba36a",
   "metadata": {},
   "source": [
    "Que 1. Declare two variables, `x` and `y`, and assign them integer values. Swap the values of these variables without using any temporary variable."
   ]
  },
  {
   "cell_type": "code",
   "execution_count": 9,
   "id": "b0fb422e-f175-46fb-b467-ad8795119a71",
   "metadata": {},
   "outputs": [],
   "source": [
    "# By Using comma operator"
   ]
  },
  {
   "cell_type": "code",
   "execution_count": 2,
   "id": "478c7b53-9a2a-4131-9522-b31dedd77c89",
   "metadata": {},
   "outputs": [],
   "source": [
    "x=10   \n",
    "y=50"
   ]
  },
  {
   "cell_type": "code",
   "execution_count": 3,
   "id": "bd3876ff-dc40-4bfc-80f2-2976e256e472",
   "metadata": {},
   "outputs": [],
   "source": [
    "x,y=y,x"
   ]
  },
  {
   "cell_type": "code",
   "execution_count": 4,
   "id": "f664f61c-7adc-4b06-a824-43e08ed7aef6",
   "metadata": {},
   "outputs": [
    {
     "name": "stdout",
     "output_type": "stream",
     "text": [
      "value of x:  50\n",
      "value of y:  10\n"
     ]
    }
   ],
   "source": [
    "print(\"value of x: \", x)\n",
    "print(\"value of y: \",y)"
   ]
  },
  {
   "cell_type": "markdown",
   "id": "5b9a0700-e115-47a2-b18d-fefe52e12621",
   "metadata": {},
   "source": [
    "Que 2. Create a program that calculates the area of a rectangle. Take the length and width as inputs from the user and store them in variables. Calculate and\n",
    "display the area."
   ]
  },
  {
   "cell_type": "code",
   "execution_count": 6,
   "id": "8adaa025-9644-4d2e-85e5-22d046611988",
   "metadata": {},
   "outputs": [
    {
     "name": "stdin",
     "output_type": "stream",
     "text": [
      "Length of rectangle:  20.5\n",
      "width of rectangle:  21.6\n"
     ]
    },
    {
     "name": "stdout",
     "output_type": "stream",
     "text": [
      "Area of a rectangle is: 442.80\n"
     ]
    }
   ],
   "source": [
    "length = float(input(\"Length of rectangle: \"))\n",
    "width = float(input(\"width of rectangle: \"))\n",
    "Area = length*width\n",
    "print(\"Area of a rectangle is: %.2f\" %Area)  # %.2f - indicates that we want to display the floating-point number with exactly two decimal places"
   ]
  },
  {
   "cell_type": "markdown",
   "id": "ac191257-3dbd-4fde-a6b6-392160aef179",
   "metadata": {},
   "source": [
    "Que 3. Write a Python program that converts temperatures from Celsius to\n",
    "Fahrenheit. Take the temperature in Celsius as input, store it in a variable,\n",
    "convert it to Fahrenheit, and display the result."
   ]
  },
  {
   "cell_type": "code",
   "execution_count": 7,
   "id": "bfc12280-9ab7-473f-acdd-3bb3164b0e4b",
   "metadata": {},
   "outputs": [
    {
     "name": "stdin",
     "output_type": "stream",
     "text": [
      "Enter the tempearature in celcius:  30.4\n"
     ]
    },
    {
     "name": "stdout",
     "output_type": "stream",
     "text": [
      "temperature in fahrenhiet: 86.72\n"
     ]
    }
   ],
   "source": [
    "Celsius_temp = float(input(\"Enter the tempearature in celcius: \"))\n",
    "fahrenhiet_temp = (1.8*Celsius_temp) + 32\n",
    "print(\"temperature in fahrenhiet: %.2f\" %fahrenhiet_temp)"
   ]
  },
  {
   "cell_type": "markdown",
   "id": "0c074f51-e927-44f9-be95-fdb44bb9f56e",
   "metadata": {},
   "source": [
    "### String based Question"
   ]
  },
  {
   "cell_type": "markdown",
   "id": "2b863e68-a51e-43a5-8016-afc22204d939",
   "metadata": {},
   "source": [
    "Que 1. Write a Python program that takes a string as input and prints the length of\n",
    "the string."
   ]
  },
  {
   "cell_type": "code",
   "execution_count": 8,
   "id": "43bb6c5c-ad3d-4b38-9360-c955f54eb6f5",
   "metadata": {},
   "outputs": [
    {
     "name": "stdin",
     "output_type": "stream",
     "text": [
      "Enter a string:  VAIBHAV    BANSAL\n"
     ]
    },
    {
     "name": "stdout",
     "output_type": "stream",
     "text": [
      "Length of the input string is:  17\n"
     ]
    }
   ],
   "source": [
    "str = input(\"Enter a string: \")\n",
    "#using len() function to find the length of the string\n",
    "print(\"Length of the input string is: \", len(str))"
   ]
  },
  {
   "cell_type": "markdown",
   "id": "1856b39f-3631-4e20-a3a5-e06038abbf54",
   "metadata": {},
   "source": [
    "Que 2. Create a program that takes a sentence from the user and counts the number\n",
    "of vowels (a, e, i, o, u) in the string."
   ]
  },
  {
   "cell_type": "code",
   "execution_count": 9,
   "id": "17edd9a6-dcf7-485a-bce2-3e82d9bd0750",
   "metadata": {},
   "outputs": [
    {
     "name": "stdin",
     "output_type": "stream",
     "text": [
      "Please type a sentence:  pwskills\n"
     ]
    },
    {
     "name": "stdout",
     "output_type": "stream",
     "text": [
      "1\n"
     ]
    }
   ],
   "source": [
    "string = input(\"Please type a sentence: \")\n",
    "vowels = \"aeiou\"\n",
    "count = sum(string.count(vowel) for vowel in vowels)\n",
    "print(count)"
   ]
  },
  {
   "cell_type": "markdown",
   "id": "e800a826-2303-47e7-839b-8eff73f25749",
   "metadata": {},
   "source": [
    "Que 3. Given a string, reverse the order of characters using string slicing and print\n",
    "the reversed string."
   ]
  },
  {
   "cell_type": "code",
   "execution_count": 10,
   "id": "f63861f6-0ac3-4204-986f-c7f76e1e0cd5",
   "metadata": {},
   "outputs": [
    {
     "name": "stdin",
     "output_type": "stream",
     "text": [
      "Enter the string:  vaibhav\n"
     ]
    },
    {
     "name": "stdout",
     "output_type": "stream",
     "text": [
      "reverse_string:  vahbiav\n"
     ]
    }
   ],
   "source": [
    "string = input(\"Enter the string: \")\n",
    "reverse_string = string[::-1]\n",
    "print(\"reverse_string: \", reverse_string)"
   ]
  },
  {
   "cell_type": "markdown",
   "id": "42d507e7-d60d-4ef9-b233-1278360c4230",
   "metadata": {},
   "source": [
    "Que 4. Write a program that takes a string as input and checks if it is a palindrome\n",
    "(reads the same forwards and backwards)."
   ]
  },
  {
   "cell_type": "raw",
   "id": "1d712a2e-6c9c-4634-92eb-dd58ca1e7695",
   "metadata": {},
   "source": [
    "Palindrome function-A palindrome function is a function that takes a string as input and checks if it is a palindrome, which means that it reads the same forwards and backwards. For example, the strings \"madam\" and \"racecar\" are palindromes, while \"hello\" and \"world\" are not."
   ]
  },
  {
   "cell_type": "code",
   "execution_count": null,
   "id": "520eee6e-de93-4f9b-b833-2a58f0e7faa6",
   "metadata": {},
   "outputs": [],
   "source": [
    "# step1: get input from the user\n",
    "input_string = input(\"Enter a string: \")\n",
    "\n",
    "#step2 : remove spaces and convert the input string into a lowercase\n",
    "cleaned_string = input_string.lower().replace(\" \",\"\")\n",
    "\n",
    "#step3 reverse the cleaned string using slicing\n",
    "reversed_string = cleaned_string[::-1]\n",
    "\n",
    "#step4 compare the cleaned string with reverse string to check if it is a palinrome or not\n",
    "if cleaned_string == reversed_string:\n",
    "    print(\"The input string is a palindrome.\")\n",
    "else:\n",
    "    print(\"The input string is not a palindrome.\")"
   ]
  },
  {
   "cell_type": "markdown",
   "id": "ac588cff-31bc-4268-be3d-659fec702b4d",
   "metadata": {},
   "source": [
    "Que5. Create a program that takes a string as input and removes all the spaces from\n",
    "it. Print the modified string without spaces."
   ]
  },
  {
   "cell_type": "code",
   "execution_count": 1,
   "id": "f421458c-1e56-46db-b650-d1caca167afb",
   "metadata": {},
   "outputs": [
    {
     "name": "stdin",
     "output_type": "stream",
     "text": [
      "Enter a string:  '    Hello    world  '\n"
     ]
    },
    {
     "name": "stdout",
     "output_type": "stream",
     "text": [
      "modified string without spaces:  'Helloworld'\n"
     ]
    }
   ],
   "source": [
    "def remove_spaces(input_string):\n",
    "    modified_string = input_string.replace(\" \", \"\")\n",
    "    return modified_string\n",
    "\n",
    "#get input from the user\n",
    "input_string = input(\"Enter a string: \")\n",
    "\n",
    "#remove spaces and print the modified string\n",
    "result=remove_spaces(input_string)\n",
    "print(\"modified string without spaces: \",result)"
   ]
  },
  {
   "cell_type": "code",
   "execution_count": null,
   "id": "fdbffd0f-4cd5-4563-baf2-d8875ee54be5",
   "metadata": {},
   "outputs": [],
   "source": []
  }
 ],
 "metadata": {
  "kernelspec": {
   "display_name": "Python 3 (ipykernel)",
   "language": "python",
   "name": "python3"
  },
  "language_info": {
   "codemirror_mode": {
    "name": "ipython",
    "version": 3
   },
   "file_extension": ".py",
   "mimetype": "text/x-python",
   "name": "python",
   "nbconvert_exporter": "python",
   "pygments_lexer": "ipython3",
   "version": "3.10.8"
  }
 },
 "nbformat": 4,
 "nbformat_minor": 5
}
