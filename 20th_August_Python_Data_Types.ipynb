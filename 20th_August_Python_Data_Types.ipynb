{
 "cells": [
  {
   "cell_type": "markdown",
   "id": "c60ed804-3ad7-477d-9b9e-39cdfdd42440",
   "metadata": {},
   "source": [
    "## String based Question"
   ]
  },
  {
   "cell_type": "markdown",
   "id": "04e79849-4c09-459a-87d6-84ed3d00ea20",
   "metadata": {},
   "source": [
    "Que 1. Write a program to reverse a string."
   ]
  },
  {
   "cell_type": "code",
   "execution_count": 1,
   "id": "ad444aff-1a83-45f2-bb5c-5a4bf6ed373d",
   "metadata": {},
   "outputs": [
    {
     "name": "stdout",
     "output_type": "stream",
     "text": [
      "Enter a string: hello\n",
      "olleh\n"
     ]
    }
   ],
   "source": [
    "string1 = input(\"Enter a string: \")\n",
    "reverse_string = string1[::-1]\n",
    "print(reverse_string)"
   ]
  },
  {
   "cell_type": "markdown",
   "id": "80252fed-82b9-435b-96ca-e6b1ecd8ea67",
   "metadata": {},
   "source": [
    "By using function-"
   ]
  },
  {
   "cell_type": "markdown",
   "id": "46f97dae-444d-462b-a5f0-d044b4cb0be5",
   "metadata": {},
   "source": [
    "Q2. Check if a string is a palindrome."
   ]
  },
  {
   "cell_type": "code",
   "execution_count": 2,
   "id": "2bd66a74-c4f5-47d6-b609-c0d406a73a67",
   "metadata": {},
   "outputs": [
    {
     "name": "stdout",
     "output_type": "stream",
     "text": [
      "True\n",
      "False\n",
      "True\n"
     ]
    }
   ],
   "source": [
    "def is_palindrome(str1):\n",
    "    \n",
    "    #remove space and convert it into lower case\n",
    "    str1=str1.lower().replace(\" \",\"\")\n",
    "    #reversed the string using slicing\n",
    "    reverse_str = str1[::-1]\n",
    "    \n",
    "    if str1 == reverse_str:\n",
    "        return True\n",
    "    else:\n",
    "        return False\n",
    "    \n",
    "print(is_palindrome(\"madam\"))\n",
    "print(is_palindrome(\"hello\"))\n",
    "print(is_palindrome(\"racar\"))"
   ]
  },
  {
   "cell_type": "markdown",
   "id": "3b58375f-f53c-41ca-9d67-1ac1c5a20ffa",
   "metadata": {
    "tags": []
   },
   "source": [
    "Q3. Convert a string to uppercase."
   ]
  },
  {
   "cell_type": "code",
   "execution_count": 3,
   "id": "cc0451ed-4c18-4c71-b849-16bad457a7e8",
   "metadata": {},
   "outputs": [
    {
     "name": "stdout",
     "output_type": "stream",
     "text": [
      "HELLO\n"
     ]
    }
   ],
   "source": [
    "str1 = \"Hello\"\n",
    "print(str1.upper())"
   ]
  },
  {
   "cell_type": "markdown",
   "id": "ebb9015a-3047-458a-a742-029c6135f35b",
   "metadata": {},
   "source": [
    "Q4. Convert a string to lowercase."
   ]
  },
  {
   "cell_type": "code",
   "execution_count": 4,
   "id": "a1fa0671-cd88-4f7c-a42a-e6517df38d78",
   "metadata": {},
   "outputs": [
    {
     "data": {
      "text/plain": [
       "'world'"
      ]
     },
     "execution_count": 4,
     "metadata": {},
     "output_type": "execute_result"
    }
   ],
   "source": [
    "str2 = \"WORLD\"\n",
    "str2.lower()"
   ]
  },
  {
   "cell_type": "markdown",
   "id": "99d9ecd1-cc34-47e0-8834-ae76c94da884",
   "metadata": {},
   "source": [
    "Q5. Count the number of vowels in a string."
   ]
  },
  {
   "cell_type": "code",
   "execution_count": 5,
   "id": "8ad0d4f6-6f86-4127-97ce-5a77c9fa9901",
   "metadata": {},
   "outputs": [
    {
     "name": "stdout",
     "output_type": "stream",
     "text": [
      "1\n"
     ]
    }
   ],
   "source": [
    "str3 = \"Pwskills\"\n",
    "vowel=\"aeiouAEIOU\"\n",
    "count = sum(str3.count(vowel) for vowel in vowel)\n",
    "print(count)"
   ]
  },
  {
   "cell_type": "markdown",
   "id": "474cfb73-a581-45c7-acda-e1e7c4dc1a19",
   "metadata": {},
   "source": [
    "Q6. Count the number of consonants in a string."
   ]
  },
  {
   "cell_type": "code",
   "execution_count": 6,
   "id": "47c2032e-4939-4e9d-b196-b574bb549b5a",
   "metadata": {},
   "outputs": [
    {
     "name": "stdout",
     "output_type": "stream",
     "text": [
      "7\n"
     ]
    }
   ],
   "source": [
    "str3 = \"Pwskills\"\n",
    "consonant = \"bcdfghjklmnpqrstvwxyzBCDFGHJKLMNPQRSTWXYZ\"\n",
    "count = sum(str3.count(consonant) for consonant in consonant)\n",
    "print(count)"
   ]
  },
  {
   "cell_type": "markdown",
   "id": "6b4622cf-ec82-4f56-9941-0ce582069c06",
   "metadata": {},
   "source": [
    "Q7. Remove all whitespaces from a string."
   ]
  },
  {
   "cell_type": "code",
   "execution_count": 7,
   "id": "485e5e79-629e-4384-84f3-830401588b7e",
   "metadata": {},
   "outputs": [
    {
     "name": "stdout",
     "output_type": "stream",
     "text": [
      "Thisstringhaswhitespace\n"
     ]
    }
   ],
   "source": [
    "def remove_whitespace(input_str):\n",
    "    #create a new string to store the modified string\n",
    "    modified_str = \"\"\n",
    "    #iterate through each character in input string\n",
    "    for char in input_str:\n",
    "        #check if the char is whitespace \n",
    "        if not char.isspace():   #it should not be whitespace\n",
    "            #if it is not whitespace then add it to modified string\n",
    "            modified_str += char\n",
    "            \n",
    "    return modified_str\n",
    "\n",
    "input_str = \"This string has whitespace\"\n",
    "modified_str=remove_whitespace(input_str)\n",
    "print(modified_str)"
   ]
  },
  {
   "cell_type": "markdown",
   "id": "000f41d6-50fd-4f11-9fec-e8affe7db5e9",
   "metadata": {},
   "source": [
    "Q8. Find the length of a string without using the `len()` function."
   ]
  },
  {
   "cell_type": "code",
   "execution_count": 8,
   "id": "ce3c124c-f18a-4c03-b37f-6f96f7b2ad68",
   "metadata": {},
   "outputs": [
    {
     "name": "stdout",
     "output_type": "stream",
     "text": [
      "8\n"
     ]
    }
   ],
   "source": [
    "def str_length(str2):\n",
    "    count=0\n",
    "    for char in str2:\n",
    "        count+=1\n",
    "    return count\n",
    "\n",
    "str2=\"PWskills\"\n",
    "str_len = str_length(str2)\n",
    "print(str_len)"
   ]
  },
  {
   "cell_type": "markdown",
   "id": "2b3dccfb-dd0f-4205-b927-46288469fa90",
   "metadata": {},
   "source": [
    "Q9. Check if a string contains a specific word."
   ]
  },
  {
   "cell_type": "code",
   "execution_count": 9,
   "id": "857950ad-805c-4b0e-a44a-84799fe2d213",
   "metadata": {},
   "outputs": [
    {
     "name": "stdout",
     "output_type": "stream",
     "text": [
      "yes\n"
     ]
    }
   ],
   "source": [
    "def check_substr(str2,sub_str):\n",
    "    if sub_str in str2:\n",
    "        return True\n",
    "    else:\n",
    "        return False\n",
    "    \n",
    "str2=\"This is pw course\"\n",
    "sub_str = \"is\"\n",
    "\n",
    "if check_substr(str2,sub_str):\n",
    "    print(\"yes\")\n",
    "else:\n",
    "    print(\"No\")"
   ]
  },
  {
   "cell_type": "markdown",
   "id": "2579005b-bd83-4077-bba2-503e0d05ef30",
   "metadata": {},
   "source": [
    "Q10. Replace a word in a string with another word."
   ]
  },
  {
   "cell_type": "code",
   "execution_count": 10,
   "id": "f4227355-767b-4019-ab8d-a2cd8f2f6245",
   "metadata": {},
   "outputs": [
    {
     "name": "stdout",
     "output_type": "stream",
     "text": [
      "That was a new house\n"
     ]
    }
   ],
   "source": [
    "def replace_str(str3,old_word,new_word): \n",
    "    new_str = str3.replace(old_word,new_word)\n",
    "    return new_str\n",
    "\n",
    "str3=\"That is a new house\"\n",
    "old_word=\"is\"\n",
    "new_word=\"was\"\n",
    "\n",
    "new_str = replace_str(str3,old_word,new_word)\n",
    "print(new_str)"
   ]
  },
  {
   "cell_type": "markdown",
   "id": "48715cf1-84e0-4919-aeaf-1490f2e75a15",
   "metadata": {},
   "source": [
    "OR"
   ]
  },
  {
   "cell_type": "code",
   "execution_count": 11,
   "id": "d30bc4a2-af8e-4d9f-861e-289ae08ed96e",
   "metadata": {},
   "outputs": [
    {
     "name": "stdout",
     "output_type": "stream",
     "text": [
      "Enter a sentence: that is new house\n",
      "Enter the old word: is\n",
      "Enter the new word: was\n",
      "modified_str:  that was new house\n"
     ]
    }
   ],
   "source": [
    "input_str = input(\"Enter a sentence: \")\n",
    "old_word= input(\"Enter the old word: \")\n",
    "new_word=input(\"Enter the new word: \")\n",
    "\n",
    "modified_str = input_str.replace(old_word,new_word)\n",
    "print(\"modified_str: \",modified_str)"
   ]
  },
  {
   "cell_type": "markdown",
   "id": "f864d954-f5eb-4245-92bf-eab964720790",
   "metadata": {},
   "source": [
    "Q11. Count the occurrences of a word in a string."
   ]
  },
  {
   "cell_type": "code",
   "execution_count": 12,
   "id": "714e81b8-e38d-45f1-94d7-0d801f0a6407",
   "metadata": {},
   "outputs": [
    {
     "name": "stdout",
     "output_type": "stream",
     "text": [
      "The word course occurs 2 times.\n"
     ]
    }
   ],
   "source": [
    "def count_occurences(input_str,word):\n",
    "    #split the input string into a list of words\n",
    "    words=input_str.split()\n",
    "    #return the final word count\n",
    "    return words.count(word)\n",
    "\n",
    "input_str = \"This is a PW course of Data science. This course includes ML,Python.\" \n",
    "#in above line if we count the no. of occurence of science then output will be 0 because there is science.\n",
    "word_to_count = \"course\"\n",
    "#call the function and print the result\n",
    "result=count_occurences(input_str,word_to_count)\n",
    "print(f\"The word {word_to_count} occurs {result} times.\")"
   ]
  },
  {
   "cell_type": "markdown",
   "id": "16ea42f0-9f49-4b02-aea2-ffac6c0cb184",
   "metadata": {},
   "source": [
    "if we will search the no. of occurence for science it will show 0 because punctuaution is also there with it\n",
    "so we will remove punctuation by a code-\n",
    "input_str=input_str.translate(str.marktrans(\"\",string.punctuation))"
   ]
  },
  {
   "cell_type": "markdown",
   "id": "a81c254c-07ee-4c93-a9f9-a54274a1d569",
   "metadata": {},
   "source": [
    "Q12. Find the first occurrence of a word in a string."
   ]
  },
  {
   "cell_type": "code",
   "execution_count": 13,
   "id": "f2e33769-c273-42f5-998c-e4bb423521b9",
   "metadata": {},
   "outputs": [
    {
     "name": "stdout",
     "output_type": "stream",
     "text": [
      "index of the first occurence :  15\n"
     ]
    }
   ],
   "source": [
    "def find_first_occurence(text,word):\n",
    "    #find the index of the first occurence of the word in text\n",
    "    index = text.find(word)\n",
    "    #check if the index is -1 ,it indicates the word is not found\n",
    "    if index==-1:\n",
    "        return None\n",
    "    #return the index of the occurence of the word\n",
    "    return index\n",
    "\n",
    "text = \"This is a good course. I was also exploring course related to it.\"\n",
    "word = \"course\"\n",
    "result=find_first_occurence(text,word)\n",
    "print(\"index of the first occurence : \", result)"
   ]
  },
  {
   "cell_type": "markdown",
   "id": "4cd77eaa-5e83-4a2b-8b4c-e9f41082c590",
   "metadata": {},
   "source": [
    "Q13. Find the last occurrence of a word in a string."
   ]
  },
  {
   "cell_type": "code",
   "execution_count": 14,
   "id": "15005064-59a7-49f7-aaca-1419ecd753d2",
   "metadata": {},
   "outputs": [
    {
     "name": "stdout",
     "output_type": "stream",
     "text": [
      "index of the last occurence :  44\n"
     ]
    }
   ],
   "source": [
    "def find_last_occurence(text,word):\n",
    "    index=text.rfind(word) #rfind to find the index of last occurence\n",
    "    if index==-1:       #if return -1 it means word is not found in the text\n",
    "        return None\n",
    "    return index\n",
    "\n",
    "text = \"This is a good course. I was also exploring course related to it.\"\n",
    "word = \"course\"\n",
    "result=find_last_occurence(text,word)\n",
    "print(\"index of the last occurence : \", result)"
   ]
  },
  {
   "cell_type": "markdown",
   "id": "99e50c91-8631-4244-acde-1871a89576be",
   "metadata": {},
   "source": [
    "Q14. Split a string into a list of words?"
   ]
  },
  {
   "cell_type": "code",
   "execution_count": 15,
   "id": "70c6d491-1253-4874-a7b9-f833c65574d6",
   "metadata": {},
   "outputs": [
    {
     "name": "stdout",
     "output_type": "stream",
     "text": [
      "List of words :  ['This', 'is', 'a', 'data', 'science', 'course']\n"
     ]
    }
   ],
   "source": [
    "def split_string_into_words(text):\n",
    "    #use split method to split the text\n",
    "    words=text.split()\n",
    "    return words\n",
    "text= \"This is a data science course\"\n",
    "words=split_string_into_words(text)\n",
    "print(\"List of words : \",words)"
   ]
  },
  {
   "cell_type": "markdown",
   "id": "1cc1960d-451e-4552-888b-d28f037c9170",
   "metadata": {},
   "source": [
    "Q15. Join a list of words into a string."
   ]
  },
  {
   "cell_type": "code",
   "execution_count": 16,
   "id": "b91debbd-e5e1-4713-854d-5b6776c506be",
   "metadata": {},
   "outputs": [
    {
     "name": "stdout",
     "output_type": "stream",
     "text": [
      "joined string :  This is a data science course\n"
     ]
    }
   ],
   "source": [
    "def join_words_into_string(words):\n",
    "    string1 = \" \".join(words)\n",
    "    return string1\n",
    "words = ['This', 'is', 'a', 'data', 'science', 'course']\n",
    "string1 = join_words_into_string(words)\n",
    "print(\"joined string : \", string1)"
   ]
  },
  {
   "cell_type": "markdown",
   "id": "d38445a1-5e8e-47c6-aaaf-0b86355f6dc4",
   "metadata": {},
   "source": [
    "Q16. Convert a string where words are separated by spaces to one where words\n",
    "are separated by underscores."
   ]
  },
  {
   "cell_type": "code",
   "execution_count": 17,
   "id": "c2a4b510-a5c8-4da6-b9a7-6980f0e721d7",
   "metadata": {},
   "outputs": [
    {
     "name": "stdout",
     "output_type": "stream",
     "text": [
      "converted_text :  This_a_data_science_course\n"
     ]
    }
   ],
   "source": [
    "def convert_to_underscore_seperated(text):\n",
    "    underscore_seperated = text.replace(\" \",\"_\")\n",
    "    return underscore_seperated\n",
    "\n",
    "text = \"This a data science course\"\n",
    "converted_text=convert_to_underscore_seperated(text)\n",
    "print(\"converted_text : \",converted_text)"
   ]
  },
  {
   "cell_type": "markdown",
   "id": "26459e6b-8904-4d34-8e83-e3b800b4fe0a",
   "metadata": {},
   "source": [
    "Q17. Check if a string starts with a specific word or phrase."
   ]
  },
  {
   "cell_type": "code",
   "execution_count": 18,
   "id": "60f73949-8297-459a-9e2e-5c90f5c916f5",
   "metadata": {},
   "outputs": [
    {
     "name": "stdout",
     "output_type": "stream",
     "text": [
      "True\n"
     ]
    }
   ],
   "source": [
    "def starts_with(text,word):\n",
    "    return text.startswith(word) #startswith method to check if it starts with the specific word\n",
    "\n",
    "text = \"This is a data science course of PW.\"\n",
    "word = \"This\"\n",
    "result = starts_with(text,word)\n",
    "print(result)"
   ]
  },
  {
   "cell_type": "markdown",
   "id": "8bd358f5-2724-4356-bea2-9eaebebfaeb8",
   "metadata": {},
   "source": [
    "Q18. Check if a string ends with a specific word or phrase."
   ]
  },
  {
   "cell_type": "code",
   "execution_count": 19,
   "id": "ee603833-ae9f-4063-85b7-7959bd5992c6",
   "metadata": {},
   "outputs": [
    {
     "name": "stdout",
     "output_type": "stream",
     "text": [
      "True\n"
     ]
    }
   ],
   "source": [
    "def ends_with(text,word):\n",
    "    return text.endswith(word) #startswith method to check if it starts with the specific word\n",
    "\n",
    "text = \"This is a data science course of PW.\"\n",
    "word = \"PW.\"\n",
    "result = ends_with(text,word)\n",
    "print(result)"
   ]
  },
  {
   "cell_type": "markdown",
   "id": "82545400-0bb6-4054-a48c-858d7cb1846b",
   "metadata": {},
   "source": [
    "Q19. Convert a string to title case (e.g., \"hello world\" to \"Hello World\")."
   ]
  },
  {
   "cell_type": "code",
   "execution_count": 20,
   "id": "802dc6a7-a23a-4db6-9350-840c14730cef",
   "metadata": {},
   "outputs": [
    {
     "name": "stdout",
     "output_type": "stream",
     "text": [
      "Hello World\n"
     ]
    }
   ],
   "source": [
    "def title_case(text):\n",
    "    return text.title()\n",
    "\n",
    "text=\"hello world\"\n",
    "result=text.title()\n",
    "print(result)"
   ]
  },
  {
   "cell_type": "markdown",
   "id": "d91c4d49-c56a-45d2-b4b9-247e9f98b088",
   "metadata": {},
   "source": [
    "Q20. Find the longest word in a string."
   ]
  },
  {
   "cell_type": "code",
   "execution_count": 21,
   "id": "b0fdbc9f-35ec-4cdc-b51f-4b39e5c84799",
   "metadata": {},
   "outputs": [
    {
     "name": "stdout",
     "output_type": "stream",
     "text": [
      "another\n"
     ]
    }
   ],
   "source": [
    "def longest_word(text):\n",
    "    words=text.split()\n",
    "    #initialize variable to keep track of longest word\n",
    "    longest_word=\"\"\n",
    "    #iterate through the list of words\n",
    "    for word in words:\n",
    "        if len(word)>len(longest_word):\n",
    "            longest_word=word\n",
    "    return longest_word\n",
    "\n",
    "text=\"This is a string with another string\"\n",
    "result=longest_word(text)\n",
    "print(result)"
   ]
  },
  {
   "cell_type": "markdown",
   "id": "3161939f-fc77-458f-90ec-f885e587f063",
   "metadata": {},
   "source": [
    "Q21. Find the shortest word in a string."
   ]
  },
  {
   "cell_type": "code",
   "execution_count": 22,
   "id": "4731b53e-c46f-411b-94ae-08553f0fbe7e",
   "metadata": {},
   "outputs": [
    {
     "name": "stdout",
     "output_type": "stream",
     "text": [
      "a\n"
     ]
    }
   ],
   "source": [
    "def shortest_word(text):\n",
    "    words=text.split()\n",
    "    #initialize variable to keep track of shortest word\n",
    "    shortest_word=\"\"\n",
    "    #iterate through the list of words\n",
    "    for word in words:\n",
    "        #or not shortest_word condition checks if the shortest_word variable is empty if it is empty\n",
    "        #then current word is set as shortest_word\n",
    "        if len(word)<len(shortest_word) or not shortest_word:\n",
    "            shortest_word=word\n",
    "    return shortest_word\n",
    "\n",
    "text=\"This is a string with another string\"\n",
    "result=shortest_word(text)\n",
    "print(result)"
   ]
  },
  {
   "cell_type": "markdown",
   "id": "006f0498-6386-4878-a14a-168dcca6ec12",
   "metadata": {},
   "source": [
    "Q22. Reverse the order of words in a string."
   ]
  },
  {
   "cell_type": "code",
   "execution_count": 23,
   "id": "d1db309b-74d8-427e-b909-fdbaff90a346",
   "metadata": {},
   "outputs": [
    {
     "name": "stdout",
     "output_type": "stream",
     "text": [
      "string another with string a is This\n"
     ]
    }
   ],
   "source": [
    "def reverse_words(text):\n",
    "    words=text.split()\n",
    "    reverse_words = words[::-1]\n",
    "    reverse_text = \" \".join(reverse_words)\n",
    "    return reverse_text\n",
    "text=\"This is a string with another string\"\n",
    "result = reverse_words(text)\n",
    "print(result)"
   ]
  },
  {
   "cell_type": "markdown",
   "id": "c36e9f77-4d9f-4b97-9dc6-2da8ee083a07",
   "metadata": {},
   "source": [
    "Q23. Check if a string is alphanumeric."
   ]
  },
  {
   "cell_type": "code",
   "execution_count": 24,
   "id": "32b08fbe-da50-4a8d-b499-d37660c0e6f7",
   "metadata": {},
   "outputs": [
    {
     "name": "stdout",
     "output_type": "stream",
     "text": [
      "False\n"
     ]
    }
   ],
   "source": [
    "def is_alphanumeric(text):\n",
    "    return text.isalnum()\n",
    "#for alphanumeric character there should be any whitespace,there should be only alphabets and numerical value\n",
    "text = \"This is a string with another string123\"\n",
    "result = is_alphanumeric(text)\n",
    "print(result)"
   ]
  },
  {
   "cell_type": "markdown",
   "id": "24bd4ef7-b928-4ea5-a852-eaf83651017f",
   "metadata": {},
   "source": [
    "Q24. Extract all digits from a string."
   ]
  },
  {
   "cell_type": "code",
   "execution_count": 25,
   "id": "67e6a2f5-bee2-42f9-b8a8-e152e60f0fbf",
   "metadata": {},
   "outputs": [
    {
     "name": "stdout",
     "output_type": "stream",
     "text": [
      "Extracted digits:  12344567\n"
     ]
    }
   ],
   "source": [
    "def extract_digits(text):\n",
    "    #initialize an empty string to store the extracted digits\n",
    "    digits = \"\"\n",
    "    #iterate through each character in text\n",
    "    for char in text:\n",
    "        #check if a character has a digit using isdigit() method\n",
    "        if char.isdigit():\n",
    "            # appended the character to the string digits\n",
    "            digits+=char\n",
    "    return digits\n",
    "text=\"Hello1234World4567\"\n",
    "extracted_digits = extract_digits(text)\n",
    "print(\"Extracted digits: \",extracted_digits)"
   ]
  },
  {
   "cell_type": "markdown",
   "id": "183a9bcd-0a1b-45c5-8845-c830e8328245",
   "metadata": {},
   "source": [
    "Q25. Extract all alphabets from a string."
   ]
  },
  {
   "cell_type": "code",
   "execution_count": 26,
   "id": "dfd54174-e3c5-4c38-a048-693cbaa22144",
   "metadata": {},
   "outputs": [
    {
     "name": "stdout",
     "output_type": "stream",
     "text": [
      "Extracted alphabets :  HelloWorld\n"
     ]
    }
   ],
   "source": [
    "def extract_alphabets(text):\n",
    "    alphabets = \"\".join([char for char in text if char.isalpha()])\n",
    "    return alphabets\n",
    "text=\"Hello1234World4567\"\n",
    "extracted_alphabets = extract_alphabets(text)\n",
    "print(\"Extracted alphabets : \",extracted_alphabets)"
   ]
  },
  {
   "cell_type": "markdown",
   "id": "960917ee-3b48-43b4-b66d-215e57094593",
   "metadata": {},
   "source": [
    "Q26. Count the number of uppercase letters in a string."
   ]
  },
  {
   "cell_type": "code",
   "execution_count": 27,
   "id": "6d1be2d1-417b-4ac3-8c3e-10abffc167ee",
   "metadata": {},
   "outputs": [
    {
     "name": "stdout",
     "output_type": "stream",
     "text": [
      "Uppercase count :  2\n"
     ]
    }
   ],
   "source": [
    "def count_uppercase(string1):\n",
    "    uppercase_count=0\n",
    "    for char in string1:\n",
    "        if char.isupper():\n",
    "            uppercase_count+=1\n",
    "    return uppercase_count\n",
    "\n",
    "string1=\"HelloWorld\"\n",
    "uppercase_count = count_uppercase(string1)\n",
    "print(\"Uppercase count : \", uppercase_count)"
   ]
  },
  {
   "cell_type": "markdown",
   "id": "79459d95-4a7c-4dd4-a8fe-cc7a9613e0f4",
   "metadata": {},
   "source": [
    "OR"
   ]
  },
  {
   "cell_type": "code",
   "execution_count": 28,
   "id": "0e5d810b-e3f0-4824-8e14-fb71b16bce25",
   "metadata": {},
   "outputs": [
    {
     "name": "stdout",
     "output_type": "stream",
     "text": [
      "4\n"
     ]
    }
   ],
   "source": [
    "def count_uppercase(string2):\n",
    "    uppercase_count=sum(1 for char in string2 if char.isupper())\n",
    "    return uppercase_count\n",
    "string2=\"HelloWORld\"\n",
    "uppercase_count = count_uppercase(string2)\n",
    "print(uppercase_count)"
   ]
  },
  {
   "cell_type": "markdown",
   "id": "7d578f36-2cdc-4b7c-a6a3-b4953e8052a2",
   "metadata": {},
   "source": [
    "Q27. Count the number of lowercase letters in a string."
   ]
  },
  {
   "cell_type": "code",
   "execution_count": 29,
   "id": "c71dc182-ff06-4d0e-affc-4d13310f8f88",
   "metadata": {},
   "outputs": [
    {
     "name": "stdout",
     "output_type": "stream",
     "text": [
      "lowercase count :  8\n"
     ]
    }
   ],
   "source": [
    "def count_lowercase(string2):\n",
    "    lowercase_count=0\n",
    "    for char in string2:\n",
    "        if char.islower():\n",
    "            lowercase_count+=1\n",
    "    return lowercase_count\n",
    "string2=\"HelloWorld\"\n",
    "lowercase_count = count_lowercase(string2)\n",
    "print(\"lowercase count : \", lowercase_count)"
   ]
  },
  {
   "cell_type": "markdown",
   "id": "4270335d-835d-44d9-86cc-55db478f7798",
   "metadata": {},
   "source": [
    "Q28. Swap the case of each character in a string."
   ]
  },
  {
   "cell_type": "code",
   "execution_count": 30,
   "id": "f9e8992e-22ce-4850-b3db-f48cb358c936",
   "metadata": {},
   "outputs": [
    {
     "name": "stdout",
     "output_type": "stream",
     "text": [
      "hELLOworLD\n"
     ]
    }
   ],
   "source": [
    "def swap_case(input_string):\n",
    "    swapped_string=input_string.swapcase()\n",
    "    return swapped_string\n",
    "input_string=\"HelloWORld\"\n",
    "swapped_string=swap_case(input_string)\n",
    "print(swapped_string)"
   ]
  },
  {
   "cell_type": "markdown",
   "id": "dd679460-74d5-4168-9aa7-c93946f8c507",
   "metadata": {},
   "source": [
    "Q29. Remove a specific word from a string."
   ]
  },
  {
   "cell_type": "code",
   "execution_count": 31,
   "id": "54b8979b-3e1f-4f33-925f-5c4f0c093f0e",
   "metadata": {},
   "outputs": [
    {
     "name": "stdout",
     "output_type": "stream",
     "text": [
      "This is a\n"
     ]
    }
   ],
   "source": [
    "def remove_word(input_string,word_to_remove):\n",
    "    words=input_string.split() #split the input string into a list of word\n",
    "    filtered_word=[word for word in words if word!=word_to_remove] #create a new list excluding the word to remove\n",
    "    modified_string=\" \".join(filtered_word)#join the filtered word back to string\n",
    "    return modified_string\n",
    "input_string=\"This is a string\"\n",
    "word_to_remove=\"string\"\n",
    "filtered_word = remove_word(input_string,word_to_remove)\n",
    "print(filtered_word)"
   ]
  },
  {
   "cell_type": "markdown",
   "id": "d209920e-0639-4d41-9f10-42387c977de1",
   "metadata": {},
   "source": [
    "Q30. Check if a string is a valid email address."
   ]
  },
  {
   "cell_type": "code",
   "execution_count": 32,
   "id": "772fa2c6-1c2e-4835-b096-9cb288fc7881",
   "metadata": {},
   "outputs": [
    {
     "name": "stdout",
     "output_type": "stream",
     "text": [
      "bansalvaibhav01@gmail.com is not a valid email address\n"
     ]
    }
   ],
   "source": [
    "import re #import the regular expression module\n",
    "def is_valid_email(email):\n",
    "    pattern = r'^!@#5&*_-a-zA-Z0-9$' #regular experssion pattern for a basic email validation\n",
    "    return re.match(pattern,email)\n",
    "    \n",
    "email = \"bansalvaibhav01@gmail.com\"\n",
    "if is_valid_email(email):\n",
    "    print(email + \" is a valid email address\")\n",
    "else:\n",
    "    print(email + \" is not a valid email address\")\n",
    "    "
   ]
  },
  {
   "cell_type": "markdown",
   "id": "67ef7cc9-430b-4a11-97b6-5e0ea637af9f",
   "metadata": {},
   "source": [
    "Q31. Extract the username from an email address string."
   ]
  },
  {
   "cell_type": "code",
   "execution_count": 33,
   "id": "d166e453-2ae6-47fb-a8f9-008422f423ce",
   "metadata": {},
   "outputs": [
    {
     "name": "stdout",
     "output_type": "stream",
     "text": [
      "bansalvaibhav01\n"
     ]
    }
   ],
   "source": [
    "def extract_username(email):\n",
    "    username=email.split('@')[0]  #split the email address at '@' and take the first part\n",
    "    return username\n",
    "\n",
    "email = \"bansalvaibhav01@gmail.com\"\n",
    "username=extract_username(email)\n",
    "print(username)"
   ]
  },
  {
   "cell_type": "markdown",
   "id": "fff94029-805e-4e58-b2df-6439465f8fd6",
   "metadata": {},
   "source": [
    "Q32. Extract the domain name from an email address string."
   ]
  },
  {
   "cell_type": "code",
   "execution_count": 34,
   "id": "8f7129ba-1396-4b95-985a-d612a5d1d3b0",
   "metadata": {},
   "outputs": [
    {
     "name": "stdout",
     "output_type": "stream",
     "text": [
      "gmail.com\n"
     ]
    }
   ],
   "source": [
    "def extract_domain(email):\n",
    "    domain=email.split('@')[1]  #split the email address at '@' and take the second part\n",
    "    return domain\n",
    "\n",
    "email = \"bansalvaibhav01@gmail.com\"\n",
    "domain=extract_domain(email)\n",
    "print(domain)"
   ]
  },
  {
   "cell_type": "markdown",
   "id": "cf927676-9ff8-42f4-b335-75ad0336854d",
   "metadata": {},
   "source": [
    "Q33. Replace multiple spaces in a string with a single space."
   ]
  },
  {
   "cell_type": "code",
   "execution_count": 35,
   "id": "bd68c067-793f-4a4a-beef-c27490aa3c4c",
   "metadata": {},
   "outputs": [
    {
     "name": "stdout",
     "output_type": "stream",
     "text": [
      "Hello World!, How are you ?\n"
     ]
    }
   ],
   "source": [
    "def replace_multiple_spaces(input_string):\n",
    "    cleaned_string = \" \".join(input_string.split()) #split the string at spaces and then join using a single space\n",
    "    return cleaned_string\n",
    "#input string with multiple spaces\n",
    "input_string = \"Hello    World!,  How   are    you  ?\"\n",
    "cleaned_string = replace_multiple_spaces(input_string)\n",
    "print(cleaned_string)"
   ]
  },
  {
   "cell_type": "markdown",
   "id": "91e9256f-7b41-494b-9e6c-8a4a9e3f7b11",
   "metadata": {},
   "source": [
    "Q34. Check if a string is a valid URL."
   ]
  },
  {
   "cell_type": "code",
   "execution_count": 36,
   "id": "65af1bc3-ae1a-49e3-a90b-20aed43d7c5e",
   "metadata": {},
   "outputs": [
    {
     "name": "stdout",
     "output_type": "stream",
     "text": [
      "Requirement already satisfied: validators in c:\\users\\vaibhav bansal\\anaconda3\\lib\\site-packages (0.22.0)\n",
      "Note: you may need to restart the kernel to use updated packages.\n"
     ]
    },
    {
     "name": "stderr",
     "output_type": "stream",
     "text": [
      "\n",
      "[notice] A new release of pip is available: 23.1.2 -> 23.3.1\n",
      "[notice] To update, run: python.exe -m pip install --upgrade pip\n"
     ]
    }
   ],
   "source": [
    "pip install validators"
   ]
  },
  {
   "cell_type": "code",
   "execution_count": 37,
   "id": "12e0350d-3dd4-4582-bc5a-295282e09cd4",
   "metadata": {},
   "outputs": [
    {
     "name": "stdout",
     "output_type": "stream",
     "text": [
      "Valid URL\n"
     ]
    }
   ],
   "source": [
    "import validators\n",
    "def is_valid_url(url):\n",
    "    try:\n",
    "        validators.url(url)\n",
    "        return True\n",
    "    except validators.ValidationFailure:\n",
    "        return False\n",
    "url = \"https://www.investofine.com\"\n",
    "if is_valid_url(url):\n",
    "    print(\"Valid URL\")\n",
    "else:\n",
    "    print(\"Invalid URL\")"
   ]
  },
  {
   "cell_type": "markdown",
   "id": "0fc85311-216a-4d07-8706-b16dbc98cd0c",
   "metadata": {},
   "source": [
    "The try-except block is a control flow structure in Python that allows us to handle errors.The try block\n",
    "contains the code that you want to execute without interruption.\n",
    "1. If an error occurs in the try block, the exception is caught and handled by the except block.\n",
    "2. The except block contains the code that will be executed if an error occurs in the try block. You can specify multiple except blocks to handle different types of exceptions."
   ]
  },
  {
   "cell_type": "markdown",
   "id": "cc20f2ff-10d8-4d6d-86b4-18c09612d612",
   "metadata": {},
   "source": [
    "Q35. Extract the protocol (http or https) from a URL string."
   ]
  },
  {
   "cell_type": "code",
   "execution_count": 38,
   "id": "8cd3ca51-50f8-43a8-ab39-a6870d111f6f",
   "metadata": {},
   "outputs": [
    {
     "name": "stdout",
     "output_type": "stream",
     "text": [
      "Protocol :  https\n"
     ]
    }
   ],
   "source": [
    "import re\n",
    "def extract_protocol(url):\n",
    "    protocol=re.findall(r\"(http|https)://\",url)[0]\n",
    "    return protocol\n",
    "url = \"https://www.investofine.com\"\n",
    "protocol = extract_protocol(url)\n",
    "print(\"Protocol : \", protocol)"
   ]
  },
  {
   "cell_type": "markdown",
   "id": "979b3d76-5d52-4e4e-b323-2a41eb60029b",
   "metadata": {},
   "source": [
    "The regular expression ^(http|https):// matches the beginning of the URL string, followed by either http or https, followed by ://. The re.findall() function returns a list of all occurrences of the regular expression in the URL string. The [0] index is used to get the first occurrence, which is the protocol.\n",
    "\n"
   ]
  },
  {
   "cell_type": "markdown",
   "id": "fd0efcef-7744-4b01-a73a-5b75ba0057c9",
   "metadata": {},
   "source": [
    "Q36. Find the frequency of each character in a string."
   ]
  },
  {
   "cell_type": "code",
   "execution_count": 39,
   "id": "5a85ab98-691d-4910-9f11-5017e2e80618",
   "metadata": {},
   "outputs": [
    {
     "name": "stdout",
     "output_type": "stream",
     "text": [
      "{'H': 1, 'e': 1, 'l': 3, 'o': 2, ' ': 1, 'W': 1, 'r': 1, 'd': 1, '!': 1}\n"
     ]
    }
   ],
   "source": [
    "def char_frequency(string1):\n",
    "    dict = {}\n",
    "    for char in string1:\n",
    "        keys=dict.keys()\n",
    "        if char in keys:\n",
    "            dict[char]+=1 #increment the frequency count if char is in dictionary\n",
    "        else:\n",
    "            dict[char]=1  #initialize the frequency count to 1 if char is not in dictionary\n",
    "    return dict\n",
    "string1 = \"Hello World!\"\n",
    "dict = char_frequency(string1)\n",
    "print(dict)"
   ]
  },
  {
   "cell_type": "markdown",
   "id": "b853eeeb-80ab-4550-bd86-e14033be0ca9",
   "metadata": {},
   "source": [
    "Q37. Remove all punctuation from a string."
   ]
  },
  {
   "cell_type": "code",
   "execution_count": 40,
   "id": "ef48ca88-e811-4649-acb0-cce8a0dee053",
   "metadata": {},
   "outputs": [
    {
     "name": "stdout",
     "output_type": "stream",
     "text": [
      "This string contains punctuation\n"
     ]
    }
   ],
   "source": [
    "import string\n",
    "def remove_punctuation(text):\n",
    "    #remove punctuation from string\n",
    "    #it includes the input string text that are not in the punctuation constant\n",
    "    #join method is then used to combine the character in the list into a single string\n",
    "    no_punctuation = \"\".join(char for char in text if char not in string.punctuation)\n",
    "    return no_punctuation\n",
    "text=\"This string. contains punctuation!\"\n",
    "result = remove_punctuation(text)\n",
    "print(result)"
   ]
  },
  {
   "cell_type": "markdown",
   "id": "51ea21f7-8bf0-4ab1-859c-6ab969cf603a",
   "metadata": {},
   "source": [
    "Q38. Check if a string contains only digits."
   ]
  },
  {
   "cell_type": "code",
   "execution_count": 41,
   "id": "c1f0409f-8546-48ba-b99f-162a47759df4",
   "metadata": {},
   "outputs": [
    {
     "name": "stdout",
     "output_type": "stream",
     "text": [
      "True\n",
      "False\n"
     ]
    }
   ],
   "source": [
    "def contains_only_digit(input_string):\n",
    "    return input_string.isdigit()\n",
    "string1 = \"12345\"\n",
    "string2 = \"Hello123\"\n",
    "\n",
    "result1= contains_only_digit(string1)\n",
    "result2= contains_only_digit(string2)\n",
    "print(result1)\n",
    "print(result2)"
   ]
  },
  {
   "cell_type": "markdown",
   "id": "ecf6e3ff-b0f5-40fb-84bd-f38008dd7e56",
   "metadata": {},
   "source": [
    "Q39. Check if a string contains only alphabets."
   ]
  },
  {
   "cell_type": "code",
   "execution_count": 42,
   "id": "d88ff837-31b6-439e-b270-78e607bea347",
   "metadata": {},
   "outputs": [
    {
     "name": "stdout",
     "output_type": "stream",
     "text": [
      "True\n",
      "False\n"
     ]
    }
   ],
   "source": [
    "def contains_only_alphabet(input_string):\n",
    "    return input_string.isalpha()\n",
    "string1 = \"Hello\"\n",
    "string2 = \"Hello123\"\n",
    "\n",
    "result1= contains_only_alphabet(string1)\n",
    "result2= contains_only_alphabet(string2)\n",
    "print(result1)\n",
    "print(result2)"
   ]
  },
  {
   "cell_type": "markdown",
   "id": "bbf925b4-f8f9-474b-b7e4-83a7bc0e0fc2",
   "metadata": {},
   "source": [
    "Q40. Convert a string to a list of characters."
   ]
  },
  {
   "cell_type": "code",
   "execution_count": 43,
   "id": "16a5afaa-ff15-4226-bd1b-d7211c16ae2f",
   "metadata": {},
   "outputs": [
    {
     "name": "stdout",
     "output_type": "stream",
     "text": [
      "['H', 'e', 'l', 'l', 'o', ' ', 'W', 'o', 'r', 'l', 'd', '!']\n"
     ]
    }
   ],
   "source": [
    "def string_to_list(input_str):\n",
    "    #use list() constructor to convert a string into list of character\n",
    "    char_list = list(input_str)\n",
    "    return char_list\n",
    "input_str = \"Hello World!\"\n",
    "char_list = string_to_list(input_str)\n",
    "print(char_list)"
   ]
  },
  {
   "cell_type": "markdown",
   "id": "abb49cff-ffae-4128-89f7-905bc1a5d84a",
   "metadata": {},
   "source": [
    "Q41. Check if two strings are anagrams."
   ]
  },
  {
   "cell_type": "code",
   "execution_count": 44,
   "id": "8adafabb-1a72-4dfa-a040-ccf083a8a255",
   "metadata": {},
   "outputs": [
    {
     "name": "stdout",
     "output_type": "stream",
     "text": [
      "True\n"
     ]
    }
   ],
   "source": [
    "def are_anagrams(str1,str2):\n",
    "    #remove spaces and convert strings to lowercase for accurate comparison\n",
    "    str1=str1.replace(\" \",\"\").lower()\n",
    "    str2=str2.replace(\" \",\"\").lower()\n",
    "    #sort the character in both string and compare\n",
    "    return sorted(str1)==sorted(str2)\n",
    "\n",
    "string1 = \"listen\"\n",
    "string2 = \"silent\"\n",
    "\n",
    "#check if strings are anagrams\n",
    "result = are_anagrams(string1, string2)\n",
    "print(result)"
   ]
  },
  {
   "cell_type": "markdown",
   "id": "caca53fe-d481-4fe8-ba58-9740d6869bd4",
   "metadata": {},
   "source": [
    "Q42. Encode a string using a Caesar cipher."
   ]
  },
  {
   "cell_type": "code",
   "execution_count": 45,
   "id": "cb9487e1-cd93-4fda-bf27-7e8ed928ad6f",
   "metadata": {},
   "outputs": [
    {
     "name": "stdout",
     "output_type": "stream",
     "text": [
      "Khoor Zruog!\n"
     ]
    }
   ],
   "source": [
    "def caesar_cipher(text,shift):\n",
    "    alphabet=\"abcdefghijklmnopqrstuvwxyzABCDEFGHIJKLMNOPQRSTUVWXYZ\"\n",
    "    shifted_alphabet=alphabet[shift:]\n",
    "    encoded_text = \"\"\n",
    "    for char in text:\n",
    "        if char in alphabet:\n",
    "            index=alphabet.index(char)\n",
    "            encoded_char=shifted_alphabet[index]\n",
    "        else:\n",
    "            encoded_char = char\n",
    "        encoded_text+=encoded_char\n",
    "    return encoded_text\n",
    "text = \"Hello World!\"\n",
    "shift = 3\n",
    "encoded_text = caesar_cipher(text,shift)\n",
    "print(encoded_text)"
   ]
  },
  {
   "cell_type": "markdown",
   "id": "1bb4ffdd-f2a5-451c-b3f2-5c8e5cd6c356",
   "metadata": {},
   "source": [
    "Q43. Decode a Caesar cipher encoded string."
   ]
  },
  {
   "cell_type": "code",
   "execution_count": 46,
   "id": "6706bebb-5b07-4e17-8f7d-46d8232e47b4",
   "metadata": {},
   "outputs": [
    {
     "name": "stdout",
     "output_type": "stream",
     "text": [
      "Hello World!\n"
     ]
    }
   ],
   "source": [
    "def caesar_cipher_decode(encoded_text,shift):\n",
    "    alphabet=\"abcdefghijklmnopqrstuvwxyzABCDEFGHIJKLMNOPQRSTUVWXYZ\"\n",
    "    shifted_alphabet=alphabet[shift:]\n",
    "    decoded_text = \"\"\n",
    "    for char in encoded_text:\n",
    "        if char in shifted_alphabet:\n",
    "            index=shifted_alphabet.index(char)\n",
    "            decoded_char=alphabet[index]\n",
    "        else:\n",
    "            decoded_char=char\n",
    "        decoded_text+=decoded_char\n",
    "    return decoded_text\n",
    "encoded_text=\"Khoor Zruog!\"\n",
    "shift=3\n",
    "decoded_text=caesar_cipher_decode(encoded_text,shift)\n",
    "print(decoded_text)"
   ]
  },
  {
   "cell_type": "markdown",
   "id": "e07e2e33-6bd7-4266-9be7-d63efbb1a0bb",
   "metadata": {},
   "source": [
    "Q44. Find the most frequent word in a string."
   ]
  },
  {
   "cell_type": "code",
   "execution_count": 47,
   "id": "81152676-ec24-4395-95bf-1d5ea6f35bb2",
   "metadata": {},
   "outputs": [
    {
     "name": "stdout",
     "output_type": "stream",
     "text": [
      "This\n"
     ]
    }
   ],
   "source": [
    "import collections\n",
    "def most_frequent_word(text):\n",
    "    #split the text into words\n",
    "    words=text.split()\n",
    "    #create a dictionary to store words count\n",
    "    word_counts=collections.Counter(words)\n",
    "    #find the most frequent word and its count\n",
    "    most_frequent_word=word_counts.most_common(1)[0][0]\n",
    "    return most_frequent_word\n",
    "\n",
    "text=\"This is a simple course to study data science. This is very easy to understand\"\n",
    "most_frequent_word=most_frequent_word(text)\n",
    "print(most_frequent_word)"
   ]
  },
  {
   "cell_type": "markdown",
   "id": "07d8b81f-fa62-4adb-98c2-c91ee1f0b9c9",
   "metadata": {},
   "source": [
    "most_common(1) calls the most_common() method on the word_counts dictionary. This method returns a list of the most frequent elements in the dictionary, up to the specified number of elements. In this case, 1 is specified, so only the single most frequent element will be returned.\n",
    "\n",
    "[0] extracts the first element from the list returned by most_common(1). This is the most frequent element, which is a tuple containing the word and its count.\n",
    "\n",
    "[0] extracts the first element from the tuple, which is the word itself.\n",
    "\n"
   ]
  },
  {
   "cell_type": "markdown",
   "id": "c705dd6e-c394-4eae-9e72-aec30246ec6e",
   "metadata": {},
   "source": [
    "Q45. Find all unique words in a string."
   ]
  },
  {
   "cell_type": "code",
   "execution_count": 48,
   "id": "31513cea-b6cb-4ce5-9393-8b5147cedc66",
   "metadata": {},
   "outputs": [
    {
     "name": "stdout",
     "output_type": "stream",
     "text": [
      "unique_words :  {'a', 'the', 'most', 'to', 'word', 'frequent', 'is', 'text', 'this', 'find', 'sample'}\n"
     ]
    }
   ],
   "source": [
    "import re\n",
    "def find_unique_words(text):\n",
    "    words=re.findall(r\"\\w+\",text.lower())\n",
    "    unique_words=set()\n",
    "    for word in words:\n",
    "        unique_words.add(word)\n",
    "    return unique_words\n",
    "\n",
    "text=\"This is a sample text to find the most frequent word\"\n",
    "unique_words = find_unique_words(text)\n",
    "print(\"unique_words : \",unique_words)"
   ]
  },
  {
   "cell_type": "markdown",
   "id": "1fe732fb-b3b0-45e1-9b71-ff131447fd3f",
   "metadata": {},
   "source": [
    "Q46. Count the number of syllables in a string."
   ]
  },
  {
   "cell_type": "code",
   "execution_count": 49,
   "id": "0adfce18-9b8d-429c-bb1d-3892b15b8f40",
   "metadata": {},
   "outputs": [],
   "source": [
    "#count of vowel group = number of syllables"
   ]
  },
  {
   "cell_type": "code",
   "execution_count": 50,
   "id": "edb65ad9-f604-4069-a725-2443d17623c6",
   "metadata": {},
   "outputs": [
    {
     "name": "stdout",
     "output_type": "stream",
     "text": [
      "2\n",
      "3\n",
      "3\n"
     ]
    }
   ],
   "source": [
    "import re\n",
    "def count_syllables(word):\n",
    "    #count vowel group using regular function\n",
    "    vowel_groups=re.findall(r'[aeiou]',word,re.IGNORECASE)\n",
    "    return len(vowel_groups)\n",
    "word1=\"Hello\"\n",
    "word2=\"Banana\"\n",
    "word3=\"Iyllable\"\n",
    "\n",
    "syllables1=count_syllables(word1)\n",
    "syllables2=count_syllables(word2)\n",
    "syllables3=count_syllables(word3)\n",
    "\n",
    "print(syllables1)\n",
    "print(syllables2)\n",
    "print(syllables3)"
   ]
  },
  {
   "cell_type": "markdown",
   "id": "5f09a54b-e22c-46d9-8f61-22c7dcd6bb12",
   "metadata": {},
   "source": [
    "Q47. Check if a string contains any special characters."
   ]
  },
  {
   "cell_type": "code",
   "execution_count": 51,
   "id": "081a58e1-b3eb-4208-9146-045450fa2b6b",
   "metadata": {},
   "outputs": [
    {
     "name": "stdout",
     "output_type": "stream",
     "text": [
      "String contains special characters.\n"
     ]
    }
   ],
   "source": [
    "import re\n",
    "def has_special_char(input_string):\n",
    "    pattern=re.compile(r'[@!$%^&_+\\#*]')\n",
    "    match = pattern.search(input_string)\n",
    "    return bool(match)\n",
    "input_string = \"Hello World!\"\n",
    "if has_special_char(input_string):\n",
    "    print(\"String contains special characters.\")\n",
    "else:\n",
    "    print(\"String does not contains special characters.\")"
   ]
  },
  {
   "cell_type": "markdown",
   "id": "b50cd442-75bd-4fc7-a6f8-edbca8407199",
   "metadata": {},
   "source": [
    "Q48. Remove the nth word from a string."
   ]
  },
  {
   "cell_type": "code",
   "execution_count": 52,
   "id": "dd3f61f2-8df9-4017-a757-3942496e3ed1",
   "metadata": {},
   "outputs": [
    {
     "name": "stdout",
     "output_type": "stream",
     "text": [
      "This is text string\n"
     ]
    }
   ],
   "source": [
    "def remove_nth_word(text,n):\n",
    "    words=text.split()\n",
    "    if n>=1 or n<=len(words):\n",
    "        removed_word = words.pop(n-1)\n",
    "        return \" \".join(words)\n",
    "text=\"This is a text string\"\n",
    "n = 3\n",
    "new_text=remove_nth_word(text,n)\n",
    "print(new_text)"
   ]
  },
  {
   "cell_type": "markdown",
   "id": "1699387f-6967-4324-9a26-aa316b06ee23",
   "metadata": {},
   "source": [
    "Q49. Insert a word at the nth position in a string."
   ]
  },
  {
   "cell_type": "code",
   "execution_count": 53,
   "id": "ab101dea-6b1c-4693-8ca2-1608cef373f4",
   "metadata": {},
   "outputs": [
    {
     "name": "stdout",
     "output_type": "stream",
     "text": [
      "This is a new text string\n"
     ]
    }
   ],
   "source": [
    "def insert_word_at_nth_position(text,word,n):\n",
    "    words=text.split()\n",
    "    if n>1 or n<len(words):\n",
    "        words.insert(n-1,word)\n",
    "        return \" \".join(words)\n",
    "text=\"This is a text string\"\n",
    "word = \"new\"\n",
    "n = 4\n",
    "new_text=insert_word_at_nth_position(text,word,n)\n",
    "print(new_text)"
   ]
  },
  {
   "cell_type": "markdown",
   "id": "b3500060-023f-4747-8e04-0f9f9ee2c2e4",
   "metadata": {},
   "source": [
    "Q50. Convert a CSV string to a list of lists."
   ]
  },
  {
   "cell_type": "code",
   "execution_count": 54,
   "id": "4c394718-25a5-4e12-a757-ab8f6fe66206",
   "metadata": {},
   "outputs": [
    {
     "name": "stdout",
     "output_type": "stream",
     "text": [
      "['Name', 'Age', 'Country']\n",
      "['John', '25', 'USA']\n",
      "['Smith', '26', 'UK']\n",
      "['Bob', '34', 'India']\n"
     ]
    }
   ],
   "source": [
    "def csv_string_to_list(csv_string):\n",
    "    #split the csv string into lines\n",
    "    lines=csv_string.split(\"\\n\")\n",
    "    #initialize an empty list to store the result\n",
    "    result=[]\n",
    "    for line in lines:\n",
    "        #split eah line into fields using comma as delimiter\n",
    "        fields=line.split(\",\")\n",
    "        #append the field to the result list \n",
    "        result.append(fields)\n",
    "    return result\n",
    "#example csv string\n",
    "csv_string=\"Name,Age,Country\\nJohn,25,USA\\nSmith,26,UK\\nBob,34,India\"\n",
    "#convert csv string to list\n",
    "list1 = csv_string_to_list(csv_string)\n",
    "for row in list1:\n",
    "    print(row)"
   ]
  },
  {
   "cell_type": "markdown",
   "id": "6deabeea-76a9-4024-a745-954ef06c0b81",
   "metadata": {},
   "source": [
    "# List based Question"
   ]
  },
  {
   "cell_type": "markdown",
   "id": "3636834b-1ef8-41a8-8abc-16e9285d1b94",
   "metadata": {},
   "source": [
    "Q1. Create a list with integers from 1 to 10."
   ]
  },
  {
   "cell_type": "code",
   "execution_count": 55,
   "id": "79ecb5c2-d688-4182-9931-7bde83395f00",
   "metadata": {},
   "outputs": [
    {
     "name": "stdout",
     "output_type": "stream",
     "text": [
      "[1, 2, 3, 4, 5, 6, 7, 8, 9, 10]\n"
     ]
    }
   ],
   "source": [
    "integer_list=[i for i in range(1,11)]\n",
    "print(integer_list)"
   ]
  },
  {
   "cell_type": "markdown",
   "id": "8d417bfd-ac3f-49c8-983b-2e6b63461e76",
   "metadata": {},
   "source": [
    "Q2. Find the length of a list without using the `len()` function."
   ]
  },
  {
   "cell_type": "code",
   "execution_count": 56,
   "id": "a234b462-bf34-4369-8d9c-bbce210b363b",
   "metadata": {},
   "outputs": [
    {
     "name": "stdout",
     "output_type": "stream",
     "text": [
      "5\n"
     ]
    }
   ],
   "source": [
    "list1= [1,2,5,8,10]\n",
    "count=0\n",
    "for item in list1:\n",
    "    count+=1\n",
    "print(count)\n",
    "    "
   ]
  },
  {
   "cell_type": "markdown",
   "id": "d723c273-bb0e-4de4-9b0d-7307cd024131",
   "metadata": {},
   "source": [
    "Q3. Append an element to the end of a list."
   ]
  },
  {
   "cell_type": "code",
   "execution_count": 57,
   "id": "999d11a3-1dea-487c-9670-88a0d24b33d0",
   "metadata": {},
   "outputs": [
    {
     "name": "stdout",
     "output_type": "stream",
     "text": [
      "[1, 2, 5, 8, 10, 6]\n"
     ]
    }
   ],
   "source": [
    "list2=[1,2,5,8,10]\n",
    "list2.append(6)\n",
    "print(list2)"
   ]
  },
  {
   "cell_type": "markdown",
   "id": "79829290-3008-42d9-a9ca-248bcd79d05c",
   "metadata": {},
   "source": [
    "Q4. Insert an element at a specific index in a list."
   ]
  },
  {
   "cell_type": "code",
   "execution_count": 58,
   "id": "c36622e0-63df-490e-ac53-1fa1c2860b1b",
   "metadata": {},
   "outputs": [
    {
     "name": "stdout",
     "output_type": "stream",
     "text": [
      "[1, 2, 5, 8, 10, 20]\n"
     ]
    }
   ],
   "source": [
    "list3=[1,2,5,8,10]\n",
    "index_to_insert=5\n",
    "new_element=20\n",
    "list3.insert(index_to_insert, new_element)\n",
    "print(list3)"
   ]
  },
  {
   "cell_type": "markdown",
   "id": "c58892e1-3ca9-4148-b633-9827f33cfc31",
   "metadata": {},
   "source": [
    "Q5. Remove an element from a list by its value."
   ]
  },
  {
   "cell_type": "code",
   "execution_count": 59,
   "id": "18be36ff-7377-4ca1-bfb6-9f69b6275873",
   "metadata": {},
   "outputs": [
    {
     "name": "stdout",
     "output_type": "stream",
     "text": [
      "[1, 2, 5, 10]\n"
     ]
    }
   ],
   "source": [
    "list4=[1,2,5,8,10]\n",
    "list4.remove(8)\n",
    "print(list4)"
   ]
  },
  {
   "cell_type": "markdown",
   "id": "cbbf4b5d-b298-4bc6-b13d-6c241eb5c388",
   "metadata": {},
   "source": [
    "Q6. Remove an element from a list by its index."
   ]
  },
  {
   "cell_type": "code",
   "execution_count": 60,
   "id": "894d6ec1-f55b-442d-bb5b-27fa2c5fbebf",
   "metadata": {},
   "outputs": [
    {
     "name": "stdout",
     "output_type": "stream",
     "text": [
      "[1, 2, 5, 10]\n"
     ]
    }
   ],
   "source": [
    "list5=[1,2,5,8,10]\n",
    "index_to_remove=3\n",
    "list5.pop(index_to_remove)\n",
    "print(list5)"
   ]
  },
  {
   "cell_type": "markdown",
   "id": "da19811d-1dbe-45a9-8c86-a31618fc6e15",
   "metadata": {},
   "source": [
    "Q7. Check if an element exists in a list."
   ]
  },
  {
   "cell_type": "code",
   "execution_count": 61,
   "id": "13cd625e-a1f8-4963-ae74-c8758bef0917",
   "metadata": {},
   "outputs": [
    {
     "name": "stdout",
     "output_type": "stream",
     "text": [
      "No\n"
     ]
    }
   ],
   "source": [
    "list6=[1,2,5,8,10]\n",
    "element=9\n",
    "if element in list6:\n",
    "    print(\"yes\")\n",
    "else:\n",
    "    print(\"No\")\n",
    "    "
   ]
  },
  {
   "cell_type": "markdown",
   "id": "3c5df4f0-b8a0-4de8-8710-ccb70c3a8c74",
   "metadata": {},
   "source": [
    "Q8. Find the index of the first occurrence of an element in a list."
   ]
  },
  {
   "cell_type": "code",
   "execution_count": 62,
   "id": "27fb0af7-579e-4788-b8a9-f884a1bd0a34",
   "metadata": {},
   "outputs": [
    {
     "name": "stdout",
     "output_type": "stream",
     "text": [
      "The index of 2 is 1\n"
     ]
    }
   ],
   "source": [
    "list7=[1,2,5,8,10,2]\n",
    "#element to find the index of\n",
    "element_to_find=2\n",
    "result=list7.index(element_to_find)#it returns the index of first occurence of that element\n",
    "print(f\"The index of {element_to_find} is {result}\")"
   ]
  },
  {
   "cell_type": "markdown",
   "id": "561fdcf5-3ceb-4247-a605-f8bdd6849e76",
   "metadata": {},
   "source": [
    "Q9. Count the occurrences of an element in a list."
   ]
  },
  {
   "cell_type": "code",
   "execution_count": 63,
   "id": "ffdc6cd0-93b7-4f23-b27a-1fe8e5c14d1e",
   "metadata": {},
   "outputs": [
    {
     "name": "stdout",
     "output_type": "stream",
     "text": [
      "The element 30 occurs 3 times\n"
     ]
    }
   ],
   "source": [
    "list8=[1,2,30,8,10,2,30,40,30]\n",
    "element_to_count=30\n",
    "count=list8.count(element_to_count)\n",
    "print(f\"The element {element_to_count} occurs {count} times\")"
   ]
  },
  {
   "cell_type": "markdown",
   "id": "df02186a-9928-4609-a52d-2999ce73f7c7",
   "metadata": {},
   "source": [
    "Q10. Reverse the order of elements in a list."
   ]
  },
  {
   "cell_type": "code",
   "execution_count": 64,
   "id": "75baa28d-0a35-45a4-a8f5-ad6e66fd5ac8",
   "metadata": {},
   "outputs": [
    {
     "data": {
      "text/plain": [
       "[10, 8, 5, 2, 1]"
      ]
     },
     "execution_count": 64,
     "metadata": {},
     "output_type": "execute_result"
    }
   ],
   "source": [
    "list9=[1,2,5,8,10]\n",
    "list9[::-1]"
   ]
  },
  {
   "cell_type": "markdown",
   "id": "13afe8a1-3829-4089-88b5-7a9fa8fcc847",
   "metadata": {},
   "source": [
    "### or"
   ]
  },
  {
   "cell_type": "code",
   "execution_count": 65,
   "id": "1a828bcf-8f6d-4c36-887b-9ad05d3e4a59",
   "metadata": {},
   "outputs": [
    {
     "name": "stdout",
     "output_type": "stream",
     "text": [
      "[10, 8, 5, 2, 1]\n"
     ]
    }
   ],
   "source": [
    "list9=[1,2,5,8,10]\n",
    "list9.reverse()\n",
    "print(list9)"
   ]
  },
  {
   "cell_type": "markdown",
   "id": "cd9cf9d2-e0b3-4e09-9c2f-85ef39b7fe0a",
   "metadata": {},
   "source": [
    "Q11. Sort a list in ascending order."
   ]
  },
  {
   "cell_type": "code",
   "execution_count": 66,
   "id": "1d4f8cd2-c478-4b9a-839d-e81a4bf9c19a",
   "metadata": {},
   "outputs": [
    {
     "name": "stdout",
     "output_type": "stream",
     "text": [
      "Sorted list in ascending order: [1, 2, 3, 5, 8, 10]\n"
     ]
    }
   ],
   "source": [
    "list10=[1,10,5,8,3,2]\n",
    "list10.sort()\n",
    "print(\"Sorted list in ascending order:\", list10)"
   ]
  },
  {
   "cell_type": "markdown",
   "id": "0c8e44c0-6978-42d7-84ac-2b66cfc11ee5",
   "metadata": {},
   "source": [
    "Q12. Sort a list in descending order."
   ]
  },
  {
   "cell_type": "code",
   "execution_count": 67,
   "id": "74256c41-fdd5-458a-87ba-77cda76f9bcf",
   "metadata": {},
   "outputs": [
    {
     "name": "stdout",
     "output_type": "stream",
     "text": [
      "Sorted list in descending order: [10, 8, 5, 3, 2, 1]\n"
     ]
    }
   ],
   "source": [
    "list11=[1,10,5,8,3,2]\n",
    "list11.sort(reverse=True)\n",
    "print(\"Sorted list in descending order:\", list11)"
   ]
  },
  {
   "cell_type": "markdown",
   "id": "70596d17-24d4-4df1-ada1-3a499b66f633",
   "metadata": {},
   "source": [
    "Q13. Create a list of even numbers from 1 to 20."
   ]
  },
  {
   "cell_type": "code",
   "execution_count": 68,
   "id": "89630373-5a83-4577-8f75-03b5db1d9237",
   "metadata": {},
   "outputs": [
    {
     "name": "stdout",
     "output_type": "stream",
     "text": [
      "List of even number :  [2, 4, 6, 8, 10, 12, 14, 16, 18, 20]\n"
     ]
    }
   ],
   "source": [
    "even_number = [list12 for list12 in range(2,21,2)]\n",
    "print(\"List of even number : \", even_number)"
   ]
  },
  {
   "cell_type": "markdown",
   "id": "c917a4e8-f87e-45d4-a561-97637ac4f4cc",
   "metadata": {},
   "source": [
    "Q14. Create a list of odd numbers from 1 to 20."
   ]
  },
  {
   "cell_type": "code",
   "execution_count": 69,
   "id": "94c8e49f-b5fb-4139-9df9-dc9d6eec4b34",
   "metadata": {},
   "outputs": [
    {
     "name": "stdout",
     "output_type": "stream",
     "text": [
      "List of odd number :  [1, 3, 5, 7, 9, 11, 13, 15, 17, 19]\n"
     ]
    }
   ],
   "source": [
    "odd_number = [list13 for list13 in range(1,21,2)]\n",
    "print(\"List of odd number : \", odd_number)"
   ]
  },
  {
   "cell_type": "markdown",
   "id": "0fb18285-8ad9-462e-ba03-50996fd291bd",
   "metadata": {},
   "source": [
    "Q15. Find the sum of all elements in a list."
   ]
  },
  {
   "cell_type": "code",
   "execution_count": 70,
   "id": "e6caea73-4fd9-45c2-9a11-e85f12711cb1",
   "metadata": {},
   "outputs": [
    {
     "name": "stdout",
     "output_type": "stream",
     "text": [
      "Sum of all elements:  29\n"
     ]
    }
   ],
   "source": [
    "list14=[1,10,5,8,3,2]\n",
    "total = sum(list14)\n",
    "print(\"Sum of all elements: \",total)"
   ]
  },
  {
   "cell_type": "markdown",
   "id": "57a5c214-57cf-4a3a-9fa1-1cbe1b77e95b",
   "metadata": {},
   "source": [
    "Q16. Find the maximum value in a list."
   ]
  },
  {
   "cell_type": "code",
   "execution_count": 71,
   "id": "68a0a643-13d5-4abb-be3f-e10101549971",
   "metadata": {},
   "outputs": [
    {
     "name": "stdout",
     "output_type": "stream",
     "text": [
      "Maximum value in elements:  10\n"
     ]
    }
   ],
   "source": [
    "list15=[1,10,5,8,3,2]\n",
    "max_value = max(list15)\n",
    "print(\"Maximum value in elements: \", max_value)"
   ]
  },
  {
   "cell_type": "markdown",
   "id": "d3a258bf-8917-419a-a15d-8afefb2c791a",
   "metadata": {},
   "source": [
    "Q17. Find the minimum value in a list."
   ]
  },
  {
   "cell_type": "code",
   "execution_count": 72,
   "id": "848b5f9f-452c-413f-89f2-c6ed817e1cc4",
   "metadata": {},
   "outputs": [
    {
     "name": "stdout",
     "output_type": "stream",
     "text": [
      "Minimum value in elements:  1\n"
     ]
    }
   ],
   "source": [
    "list16=[1,10,5,8,3,2]\n",
    "min_value = min(list16)\n",
    "print(\"Minimum value in elements: \", min_value)"
   ]
  },
  {
   "cell_type": "markdown",
   "id": "01d8bf89-60f4-4bba-a8aa-04ef58ee3afb",
   "metadata": {},
   "source": [
    "Q18. Create a list of squares of numbers from 1 to 10."
   ]
  },
  {
   "cell_type": "code",
   "execution_count": 73,
   "id": "80b875b6-be66-40db-a159-1742948127ed",
   "metadata": {},
   "outputs": [
    {
     "name": "stdout",
     "output_type": "stream",
     "text": [
      "[1, 4, 9, 16, 25, 36, 49, 64, 81, 100]\n"
     ]
    }
   ],
   "source": [
    "square_number=[x**2 for x in range(1,11)]\n",
    "print(square_number)"
   ]
  },
  {
   "cell_type": "markdown",
   "id": "8c7c4791-adb3-436b-a8e1-0aa6090635f5",
   "metadata": {},
   "source": [
    "Q19. Create a list of random numbers."
   ]
  },
  {
   "cell_type": "code",
   "execution_count": 74,
   "id": "64fef382-c07e-44bf-acbc-c3092e8630e9",
   "metadata": {},
   "outputs": [
    {
     "name": "stdout",
     "output_type": "stream",
     "text": [
      "[45, 93, 60, 76, 84, 84, 33, 100, 12, 38]\n"
     ]
    }
   ],
   "source": [
    "import random\n",
    "random_list=[]\n",
    "for i in range(10):\n",
    "    random_list.append(random.randint(1,100))\n",
    "print(random_list)"
   ]
  },
  {
   "cell_type": "markdown",
   "id": "9801e1f4",
   "metadata": {},
   "source": [
    "Q21. Find the common elements between two lists."
   ]
  },
  {
   "cell_type": "code",
   "execution_count": 75,
   "id": "bedd3fda",
   "metadata": {},
   "outputs": [
    {
     "name": "stdout",
     "output_type": "stream",
     "text": [
      "[3, 4, 5]\n"
     ]
    }
   ],
   "source": [
    "list1=[1,2,3,4,5]\n",
    "list2=[3,4,5,6,7]\n",
    "common_elements=[]\n",
    "for item in list1:\n",
    "    if item in list2:\n",
    "        common_elements.append(item)\n",
    "print(common_elements)"
   ]
  },
  {
   "cell_type": "markdown",
   "id": "23c2356f-e027-41d2-864d-f01fddbb907c",
   "metadata": {},
   "source": [
    "Q20. Remove duplicates from a list."
   ]
  },
  {
   "cell_type": "code",
   "execution_count": 76,
   "id": "94d0c750-092b-4dbd-a596-8024fabd6340",
   "metadata": {
    "scrolled": false
   },
   "outputs": [
    {
     "name": "stdout",
     "output_type": "stream",
     "text": [
      "[40, 10, 50, 20, 30]\n"
     ]
    }
   ],
   "source": [
    "lp = [10, 20, 30, 20, 40, 10, 50, 30]\n",
    "uniquel= list(set(lp))\n",
    "print(uniquel)"
   ]
  },
  {
   "cell_type": "markdown",
   "id": "d7aac55c-d466-4374-bb09-73778367354f",
   "metadata": {},
   "source": [
    "Q22. Find the difference between two lists."
   ]
  },
  {
   "cell_type": "code",
   "execution_count": 77,
   "id": "59c3cf3a-cece-4c88-8fea-f5a9d3cfedc1",
   "metadata": {},
   "outputs": [
    {
     "name": "stdout",
     "output_type": "stream",
     "text": [
      "[1, 2]\n"
     ]
    }
   ],
   "source": [
    "list1=[1,2,3,4,5]\n",
    "list2=[3,4,5,6,7]\n",
    "difference=[]\n",
    "for item in list1:\n",
    "    if item not in list2:\n",
    "        difference.append(item)\n",
    "print(difference)"
   ]
  },
  {
   "cell_type": "raw",
   "id": "09d2e9be-0b3a-4c3b-b7f9-2c25d30dd488",
   "metadata": {},
   "source": [
    "or"
   ]
  },
  {
   "cell_type": "code",
   "execution_count": 78,
   "id": "7d50e3eb-821f-4d17-8665-f4968bc401b6",
   "metadata": {},
   "outputs": [
    {
     "name": "stdout",
     "output_type": "stream",
     "text": [
      "[1, 2]\n"
     ]
    }
   ],
   "source": [
    "list1=[1,2,3,4,5]\n",
    "list2=[3,4,5,6,7]\n",
    "difference=list(set(list1).difference(list2))\n",
    "print(difference)"
   ]
  },
  {
   "cell_type": "markdown",
   "id": "324238dd-9095-4d27-9ca2-9236c6fb2cb5",
   "metadata": {},
   "source": [
    "Q23. Merge two lists."
   ]
  },
  {
   "cell_type": "code",
   "execution_count": 79,
   "id": "1398dba0-e4f8-4993-8330-a8c8ad9f6fc6",
   "metadata": {},
   "outputs": [
    {
     "name": "stdout",
     "output_type": "stream",
     "text": [
      "[1, 2, 3, 4, 5, 6, 7]\n"
     ]
    }
   ],
   "source": [
    "list1=[1,2,3,4,5]  #if we don't want repetition in merged_list \n",
    "list2=[3,4,5,6,7]\n",
    "merge_list = list(set(list1 + list2))\n",
    "print(merge_list)"
   ]
  },
  {
   "cell_type": "markdown",
   "id": "6d766642-cb7a-4bf4-99dd-a121094bc9b1",
   "metadata": {},
   "source": [
    "Q24. Multiply all elements in a list by 2."
   ]
  },
  {
   "cell_type": "code",
   "execution_count": 80,
   "id": "8d303ca1-8e27-48df-8e4e-bba05dcb3d70",
   "metadata": {},
   "outputs": [
    {
     "name": "stdout",
     "output_type": "stream",
     "text": [
      "[2, 4, 6, 8, 10]\n"
     ]
    }
   ],
   "source": [
    "my_list=[1,2,3,4,5] \n",
    "Multiplied_list=[i*2 for i in my_list]\n",
    "print(Multiplied_list)"
   ]
  },
  {
   "cell_type": "markdown",
   "id": "36d8a44d-7c48-4559-bfc9-09966f23642b",
   "metadata": {},
   "source": [
    "Q25. Filter out all even numbers from a list."
   ]
  },
  {
   "cell_type": "code",
   "execution_count": 81,
   "id": "df5bcf55-ba20-465e-b65c-9f98956596c8",
   "metadata": {},
   "outputs": [
    {
     "name": "stdout",
     "output_type": "stream",
     "text": [
      "[1, 3, 5]\n"
     ]
    }
   ],
   "source": [
    "my_list=[1,2,3,4,5] \n",
    "odd_number=[element for element in my_list if element%2 != 0]\n",
    "print(odd_number)"
   ]
  },
  {
   "cell_type": "markdown",
   "id": "007f2b2c-44fe-432f-9c69-bc487f0da95e",
   "metadata": {},
   "source": [
    "Q26. Convert a list of strings to a list of integers."
   ]
  },
  {
   "cell_type": "code",
   "execution_count": 82,
   "id": "6044396d-170f-4217-8719-0abbe4ef8006",
   "metadata": {},
   "outputs": [
    {
     "name": "stdout",
     "output_type": "stream",
     "text": [
      "[10, 20, 30, 40, 50]\n"
     ]
    }
   ],
   "source": [
    "string_list=[\"10\",\"20\",\"30\",\"40\",\"50\"]\n",
    "integer_list=[int(x) for x in  string_list]\n",
    "print(integer_list)"
   ]
  },
  {
   "cell_type": "markdown",
   "id": "0b866bfb-ca59-4bf8-968a-b3c074f0b70a",
   "metadata": {},
   "source": [
    "Q27. Convert a list of integers to a list of strings."
   ]
  },
  {
   "cell_type": "code",
   "execution_count": 83,
   "id": "0409b2d0-3cd8-40a3-b7c8-44d81434626b",
   "metadata": {},
   "outputs": [
    {
     "name": "stdout",
     "output_type": "stream",
     "text": [
      "['10', '20', '30', '40', '50']\n"
     ]
    }
   ],
   "source": [
    "integer_list=[10,20,30,40,50]\n",
    "string_list=[str(x) for x in  integer_list]\n",
    "print(string_list)"
   ]
  },
  {
   "cell_type": "markdown",
   "id": "13fa02f0-0173-4a72-aabb-a9a6b9b44631",
   "metadata": {},
   "source": [
    "Q28. Flatten a nested list."
   ]
  },
  {
   "cell_type": "code",
   "execution_count": 84,
   "id": "30da43e7-5239-4fe4-bf07-476646dada65",
   "metadata": {},
   "outputs": [
    {
     "name": "stdout",
     "output_type": "stream",
     "text": [
      "[1, 2, 3, 4, 5, 6, 7, 8, 9]\n"
     ]
    }
   ],
   "source": [
    "nested_list=[[1,2,3],[4,5,6],[7,8,9]]\n",
    "flattened_list=[]\n",
    "for sublist in nested_list:\n",
    "    for element in sublist:\n",
    "        flattened_list.append(element)\n",
    "print(flattened_list)\n",
    "        "
   ]
  },
  {
   "cell_type": "markdown",
   "id": "09ee06fa-ee29-4fc1-a2e2-2bb6072f6448",
   "metadata": {},
   "source": [
    "Q29. Create a list of the first 10 Fibonacci numbers."
   ]
  },
  {
   "cell_type": "code",
   "execution_count": 85,
   "id": "228dc100-5852-4888-8156-c04570fd19a7",
   "metadata": {},
   "outputs": [
    {
     "name": "stdout",
     "output_type": "stream",
     "text": [
      "[0, 1, 1, 2, 3, 5, 8, 13, 21, 34]\n"
     ]
    }
   ],
   "source": [
    "def fibonacci(n):\n",
    "    if n==0:\n",
    "        return 0\n",
    "    elif n==1:\n",
    "        return 1\n",
    "    else:\n",
    "        return fibonacci(n-1) + fibonacci(n-2)\n",
    "fibonacci_numbers=[]\n",
    "#generate the first 10 fibonacci number\n",
    "for i in range(10):\n",
    "    fibonacci_numbers.append(fibonacci(i))\n",
    "print(fibonacci_numbers)"
   ]
  },
  {
   "cell_type": "markdown",
   "id": "da0aad98-6a43-413e-9c15-74af62bb72e2",
   "metadata": {},
   "source": [
    "Q30. Check if a list is sorted."
   ]
  },
  {
   "cell_type": "code",
   "execution_count": 86,
   "id": "a401f36c-cf3c-4129-a901-361348be2671",
   "metadata": {},
   "outputs": [
    {
     "name": "stdout",
     "output_type": "stream",
     "text": [
      "List is sorted in ascending order\n"
     ]
    }
   ],
   "source": [
    "def is_sorted_ascending(lst):\n",
    "    #iterate through the list starting from the second element (i = 1) up to the last element.\n",
    "    for i in range(1,len(lst)):\n",
    "        #compare the current element with the previous element (lst[i] < lst[i - 1])\n",
    "        if lst[i]<lst[i-1]:\n",
    "            return False\n",
    "    return True\n",
    "ascending_list=[10,20,30,40,50]\n",
    "if is_sorted_ascending(ascending_list):\n",
    "    print(\"List is sorted in ascending order\")\n",
    "else:\n",
    "    print(\"List is sorted in descending order\")\n"
   ]
  },
  {
   "cell_type": "markdown",
   "id": "d1516740-c97d-4e7c-8e45-26c470b93e29",
   "metadata": {},
   "source": [
    "Q31. Rotate a list to the left by `n` positions."
   ]
  },
  {
   "cell_type": "code",
   "execution_count": 87,
   "id": "a36f2f9b-cbd0-40f5-a1f6-2b1f7bfeaad0",
   "metadata": {},
   "outputs": [
    {
     "name": "stdout",
     "output_type": "stream",
     "text": [
      "[7, 8, 9, 5, 6]\n"
     ]
    }
   ],
   "source": [
    "def rotate_left(my_list,n):\n",
    "    #check if the number of rotation is valid\n",
    "    if n < 0 or n >= len(my_list):\n",
    "        raise ValueError(\"Invalid number of rotations\")\n",
    "        \n",
    "    rotated_list = my_list[n:]+my_list[:n]\n",
    "    return rotated_list\n",
    "\n",
    "my_list=[5,6,7,8,9]\n",
    "rotated_list=rotate_left(my_list,2)\n",
    "print(rotated_list)"
   ]
  },
  {
   "cell_type": "markdown",
   "id": "7de51ecf-32b6-487e-bece-73ca81cb6d2f",
   "metadata": {},
   "source": [
    "Q32. Rotate a list to the right by `n` positions."
   ]
  },
  {
   "cell_type": "code",
   "execution_count": 88,
   "id": "be7034dd-8598-4e22-b0ca-f1e6ddcfeaae",
   "metadata": {},
   "outputs": [
    {
     "name": "stdout",
     "output_type": "stream",
     "text": [
      "[3, 4, 5, 6, 1, 2]\n"
     ]
    }
   ],
   "source": [
    "def rotate_right(my_list,n):\n",
    "    #check if the number of rotation is valid\n",
    "    if n < 0 or n >= len(my_list):\n",
    "        raise ValueError(\"Invalid number of rotations\")\n",
    "        \n",
    "    rotated_list = my_list[n:] + my_list[:n]\n",
    "    return rotated_list\n",
    "\n",
    "my_list=[1,2,3,4,5,6]\n",
    "rotated_list=rotate_right(my_list,2)\n",
    "print(rotated_list)"
   ]
  },
  {
   "cell_type": "markdown",
   "id": "2eb388d1-7c43-482c-823a-5dfa0f02bf17",
   "metadata": {},
   "source": [
    "Q33. Create a list of prime numbers up to 50."
   ]
  },
  {
   "cell_type": "code",
   "execution_count": 89,
   "id": "4e2c6fcc-0c81-4b87-98e3-888dadd73a00",
   "metadata": {},
   "outputs": [
    {
     "name": "stdout",
     "output_type": "stream",
     "text": [
      "[2, 3, 5, 7, 11, 13, 17, 19, 23, 29, 31, 37, 41, 43, 47]\n"
     ]
    }
   ],
   "source": [
    "def is_prime(num):\n",
    "    if num<=1:\n",
    "        return False\n",
    "    for i in range(2,num):\n",
    "        if num%i==0: \n",
    "            return False\n",
    "    return True\n",
    "prime_numbers=[]\n",
    "for num in range(2,50):\n",
    "    if is_prime(num):\n",
    "        prime_numbers.append(num)\n",
    "print(prime_numbers)"
   ]
  },
  {
   "cell_type": "markdown",
   "id": "3419d5b8-7f2c-4f56-8a26-43a0f395ad6d",
   "metadata": {},
   "source": [
    "Q34. Split a list into chunks of size `n`."
   ]
  },
  {
   "cell_type": "code",
   "execution_count": 90,
   "id": "4772f7f3-aa24-458c-a2a8-91068b6cda09",
   "metadata": {},
   "outputs": [
    {
     "name": "stdout",
     "output_type": "stream",
     "text": [
      "[[1, 2, 3], [4, 5, 6], [7, 8, 9], [10]]\n"
     ]
    }
   ],
   "source": [
    "def split_chunks(list14,chunk_size):\n",
    "    if chunk_size<=0:\n",
    "        raise ValueError(\"chunk_size must be positive\")\n",
    "        #split the list into chunks\n",
    "    chunks = []\n",
    "    for i in range(0,len(list14),chunk_size):\n",
    "        chunks.append(list14[i : i+chunk_size])\n",
    "    return chunks\n",
    "\n",
    "list14=[1,2,3,4,5,6,7,8,9,10]\n",
    "chunk_size=3\n",
    "chunks = split_chunks(list14,chunk_size)\n",
    "print(chunks)                                "
   ]
  },
  {
   "cell_type": "markdown",
   "id": "2cd1ab6a-99d4-4a85-bf72-2f1742d1c9d3",
   "metadata": {},
   "source": [
    "Q35. Find the second largest number in a list."
   ]
  },
  {
   "cell_type": "code",
   "execution_count": 91,
   "id": "7360b909-5d1f-411d-ae5d-a4cbd1b1a848",
   "metadata": {},
   "outputs": [
    {
     "name": "stdout",
     "output_type": "stream",
     "text": [
      "25\n"
     ]
    }
   ],
   "source": [
    "list1=[2,4,30,20,15,20,25]\n",
    "#remove duplicates by converting it into set and then sort it in ascending order\n",
    "sorted_list = sorted(set(list1))\n",
    "#find the second largest number\n",
    "if len(sorted_list)>2:\n",
    "    second_largest=sorted_list[-2]\n",
    "    print(second_largest)"
   ]
  },
  {
   "cell_type": "markdown",
   "id": "fe53491f-6c0f-453d-b52e-60bb8e45f2a9",
   "metadata": {},
   "source": [
    "Q36. Replace every element in a list with its square."
   ]
  },
  {
   "cell_type": "code",
   "execution_count": 92,
   "id": "04ddc531-2657-4052-825a-4454deca2986",
   "metadata": {},
   "outputs": [
    {
     "name": "stdout",
     "output_type": "stream",
     "text": [
      "[4, 16, 36, 64, 9, 49]\n"
     ]
    }
   ],
   "source": [
    "list2 = [2,4,6,8,3,7]\n",
    "square_list = [i*i for i in list2]\n",
    "print(square_list)"
   ]
  },
  {
   "cell_type": "markdown",
   "id": "786ba200-914b-4e0b-93be-d6dff23fc4ff",
   "metadata": {},
   "source": [
    "Q37. Convert a list to a dictionary where list elements become keys and their\n",
    "indices become values."
   ]
  },
  {
   "cell_type": "code",
   "execution_count": 93,
   "id": "f1ebaa7a-f51d-4cce-a8a2-2e91a20d5f99",
   "metadata": {},
   "outputs": [
    {
     "name": "stdout",
     "output_type": "stream",
     "text": [
      "{'apple': 0, 'banana': 1, 'kiwi': 2, 'pineapple': 3}\n"
     ]
    }
   ],
   "source": [
    "list3=['apple','banana','kiwi','pineapple']\n",
    "dict={element : index for index,element in enumerate(list3)}\n",
    "print(dict)"
   ]
  },
  {
   "cell_type": "markdown",
   "id": "ef995ef2-7764-47f1-952c-9bf45a7f3202",
   "metadata": {},
   "source": [
    "Q38. Shuffle the elements of a list randomly."
   ]
  },
  {
   "cell_type": "code",
   "execution_count": 94,
   "id": "fa267610-3655-4744-a8b2-a73b6980bcba",
   "metadata": {},
   "outputs": [
    {
     "name": "stdout",
     "output_type": "stream",
     "text": [
      "[2, 7, 1, 3, 6, 5, 8, 4, 9]\n"
     ]
    }
   ],
   "source": [
    "import random\n",
    "list3=[1,2,3,4,5,6,7,8,9]\n",
    "#shuffle the list randomly\n",
    "random.shuffle(list3)\n",
    "print(list3)"
   ]
  },
  {
   "cell_type": "markdown",
   "id": "1fbce821-9add-4fef-8b0f-5b9becefd4d3",
   "metadata": {},
   "source": [
    "Q39. Create a list of the first 10 factorial numbers."
   ]
  },
  {
   "cell_type": "code",
   "execution_count": 95,
   "id": "e7d40350-3ab5-4151-90cd-6a476797416e",
   "metadata": {},
   "outputs": [
    {
     "name": "stdout",
     "output_type": "stream",
     "text": [
      "List of 10 factorial numbers :  [1, 1, 2, 6, 24, 120, 720, 5040, 40320, 362880]\n"
     ]
    }
   ],
   "source": [
    "def factorial(n):\n",
    "    if n==0 or n==1:\n",
    "        return 1\n",
    "    else:\n",
    "        return n*factorial(n-1)\n",
    "    \n",
    "factorial_numbers=[factorial(i) for i in range(10)]\n",
    "print(\"List of 10 factorial numbers : \",factorial_numbers)"
   ]
  },
  {
   "cell_type": "markdown",
   "id": "30829dec-0642-46c7-99a5-5c5d3db890f3",
   "metadata": {},
   "source": [
    "Q40. Check if two lists have at least one element in common."
   ]
  },
  {
   "cell_type": "code",
   "execution_count": 96,
   "id": "4474012b-3aaa-4361-9abc-52bb0fb7a7de",
   "metadata": {},
   "outputs": [
    {
     "name": "stdout",
     "output_type": "stream",
     "text": [
      "The list do not have common element\n"
     ]
    }
   ],
   "source": [
    "def has_common_element(list1,list2):\n",
    "    for item in list1:\n",
    "        if item in list2:\n",
    "            return True\n",
    "    return False\n",
    "list1=[1,2,3,4,5]\n",
    "list2=[6,7,8]\n",
    "if has_common_element(list1,list2):\n",
    "    print(\"The list have at least one common element\")\n",
    "else:\n",
    "    print(\"The list do not have common element\")"
   ]
  },
  {
   "cell_type": "markdown",
   "id": "f0ee70c5-c294-469d-92fa-a2181d869daa",
   "metadata": {},
   "source": [
    "Q41. Remove all elements from a list."
   ]
  },
  {
   "cell_type": "code",
   "execution_count": 97,
   "id": "d97805d5-ceb5-45f9-a9f4-76e053102dc4",
   "metadata": {},
   "outputs": [
    {
     "name": "stdout",
     "output_type": "stream",
     "text": [
      "[]\n"
     ]
    }
   ],
   "source": [
    "list3=[1,2,3,4,5]\n",
    "list3.clear()\n",
    "print(list3)"
   ]
  },
  {
   "cell_type": "markdown",
   "id": "303f2bf3-13ff-42bf-b617-492f4418efc8",
   "metadata": {},
   "source": [
    "Q42. Replace negative numbers in a list with 0."
   ]
  },
  {
   "cell_type": "code",
   "execution_count": 98,
   "id": "9d22178d-fa9f-4a26-bc3e-35806cba40c7",
   "metadata": {},
   "outputs": [
    {
     "name": "stdout",
     "output_type": "stream",
     "text": [
      "list after replacing negative numbers with 0 :  [10, 20, 0, 0, 40, 0]\n"
     ]
    }
   ],
   "source": [
    "list3=[10,20,-10,-25,40,-50]\n",
    "for i in range(len(list3)):\n",
    "    if list3[i]<0:\n",
    "        list3[i]=0\n",
    "print(\"list after replacing negative numbers with 0 : \", list3)"
   ]
  },
  {
   "cell_type": "markdown",
   "id": "f2066dc4-f26f-48d0-b0cc-4cc38e32ae57",
   "metadata": {},
   "source": [
    "Q43. Convert a string into a list of words."
   ]
  },
  {
   "cell_type": "code",
   "execution_count": 99,
   "id": "e43080a3-9ad3-4ec7-b5e1-0d96e703c6db",
   "metadata": {},
   "outputs": [
    {
     "name": "stdout",
     "output_type": "stream",
     "text": [
      "List of words :  ['This', 'is', 'a', 'PW', 'course']\n"
     ]
    }
   ],
   "source": [
    "string=\"This is a PW course\"\n",
    "words_list = string.split()\n",
    "print(\"List of words : \", words_list)"
   ]
  },
  {
   "cell_type": "markdown",
   "id": "21de0eab-7776-43c9-93b2-2c98b19aa640",
   "metadata": {},
   "source": [
    "Q44. Convert a list of words into a string."
   ]
  },
  {
   "cell_type": "code",
   "execution_count": 100,
   "id": "a813fe60-cbc7-471f-baf6-3898790a9166",
   "metadata": {},
   "outputs": [
    {
     "name": "stdout",
     "output_type": "stream",
     "text": [
      "This is a PW course\n"
     ]
    }
   ],
   "source": [
    "words_list :  ['This', 'is', 'a', 'PW', 'course']\n",
    "string = \" \".join(words_list)\n",
    "print(string)"
   ]
  },
  {
   "cell_type": "markdown",
   "id": "6105406a-25de-4d7d-a15c-82270dfb00d5",
   "metadata": {},
   "source": [
    "Q45. Create a list of the first `n` powers of 2."
   ]
  },
  {
   "cell_type": "code",
   "execution_count": 101,
   "id": "552c69cd-cedf-4373-b4f6-8b3a79b2b971",
   "metadata": {},
   "outputs": [
    {
     "name": "stdout",
     "output_type": "stream",
     "text": [
      "List of first 5 powers of 2 is :  [1, 2, 4, 8, 16]\n"
     ]
    }
   ],
   "source": [
    "n=5 #range(5)-0,1,2,3,4\n",
    "power_list = [2**i for i in range(n)]\n",
    "print(\"List of first 5 powers of 2 is : \",power_list)"
   ]
  },
  {
   "cell_type": "markdown",
   "id": "047c9102-ab5b-4e51-8e57-82c6caf319ad",
   "metadata": {},
   "source": [
    "Q46. Find the longest string in a list of strings."
   ]
  },
  {
   "cell_type": "code",
   "execution_count": 102,
   "id": "7fafc629-7c54-4ac8-9dbb-d9b5fd950893",
   "metadata": {},
   "outputs": [
    {
     "name": "stdout",
     "output_type": "stream",
     "text": [
      "Longest string :  strawberry\n"
     ]
    }
   ],
   "source": [
    "string_list = [\"apple\",\"banana\",\"orange\",\"kiwi\",\"strawberry\"]\n",
    "longest_string = string_list[0]\n",
    "for s in string_list:\n",
    "    if len(s)>len(longest_string):\n",
    "        longest_string=s\n",
    "print(\"Longest string : \",longest_string)"
   ]
  },
  {
   "cell_type": "markdown",
   "id": "cb3eda40-fa35-45da-b26e-338405709866",
   "metadata": {},
   "source": [
    "Q47. Find the shortest string in a list of strings."
   ]
  },
  {
   "cell_type": "code",
   "execution_count": 103,
   "id": "d13e7c63-4576-48fd-bbe5-a24eb6c9dd1c",
   "metadata": {},
   "outputs": [
    {
     "name": "stdout",
     "output_type": "stream",
     "text": [
      "Shortest string :  kiwi\n"
     ]
    }
   ],
   "source": [
    "string_list=[\"apple\",\"banana\",\"orange\",\"kiwi\",\"strawberry\"]\n",
    "#initialize the shortest string\n",
    "shortest_string=string_list[0]\n",
    "for s in string_list:\n",
    "    if len(s)<len(shortest_string):\n",
    "        shortest_string=s\n",
    "print(\"Shortest string : \", shortest_string)"
   ]
  },
  {
   "cell_type": "markdown",
   "id": "433ce5cb-eecb-4b09-acf2-0ffdf31cdace",
   "metadata": {},
   "source": [
    "Q48. Create a list of the first `n` triangular numbers."
   ]
  },
  {
   "cell_type": "code",
   "execution_count": 104,
   "id": "943fe549-dd55-4e38-88a9-e590f229cf71",
   "metadata": {},
   "outputs": [
    {
     "name": "stdout",
     "output_type": "stream",
     "text": [
      "List of the first n triangular number :  [1, 3, 6, 10, 15]\n"
     ]
    }
   ],
   "source": [
    "def triangular_number(n):\n",
    "    return [i*(i+1)//2 for i in range(1,n+1)]\n",
    "#specify the value of n\n",
    "n=5\n",
    "#create the list of first n triangular number\n",
    "triangular_list =triangular_number(n)\n",
    "print(\"List of the first n triangular number : \",triangular_list)"
   ]
  },
  {
   "cell_type": "markdown",
   "id": "857bc597-97c6-47f0-a94b-dbced99d45db",
   "metadata": {},
   "source": [
    "Q49. Check if a list contains another list as a subsequence."
   ]
  },
  {
   "cell_type": "code",
   "execution_count": 105,
   "id": "d63ec73f-7998-40a1-8e7f-14b7c23226f9",
   "metadata": {},
   "outputs": [
    {
     "name": "stdout",
     "output_type": "stream",
     "text": [
      "The subsequence is not present in sequence\n"
     ]
    }
   ],
   "source": [
    "def is_subsequence(subsequence,sequence):\n",
    "    subseq_index=0 #index for subsequence element\n",
    "    for element in sequence:\n",
    "        if element == subsequence[subseq_index]:\n",
    "            subseq_index+=1\n",
    "            if subseq_index==len(subsequence):\n",
    "                return True\n",
    "    return False\n",
    "            \n",
    "sequence=[1,2,3,4,5,6,7,8]\n",
    "subsequence=[3,8,5]\n",
    "if is_subsequence(subsequence,sequence):\n",
    "    print(\"The subsequence is present in sequence\")\n",
    "else:\n",
    "    print(\"The subsequence is not present in sequence\")"
   ]
  },
  {
   "cell_type": "markdown",
   "id": "340fca7f-b3f2-4d0c-9dc1-0a99b8950995",
   "metadata": {},
   "source": [
    "OR"
   ]
  },
  {
   "cell_type": "code",
   "execution_count": 106,
   "id": "d342dce1-e2c1-4b41-a305-57f140ac4abd",
   "metadata": {},
   "outputs": [
    {
     "name": "stdout",
     "output_type": "stream",
     "text": [
      "The subsequence is present in the sequence\n"
     ]
    }
   ],
   "source": [
    "def is_subsequence(subsequence, sequence):\n",
    "    if len(subsequence) > len(sequence):\n",
    "        return False\n",
    "\n",
    "    i = 0\n",
    "    j = 0\n",
    "    while i < len(sequence) and j < len(subsequence):\n",
    "        if sequence[i] == subsequence[j]:\n",
    "            i += 1\n",
    "            j += 1\n",
    "        else:\n",
    "            i += 1\n",
    "#If the index j reaches the length of the subsequence, it means that all elements of the \n",
    "#subsequence have been matched in the sequence and the function returns True\n",
    "    if j == len(subsequence):\n",
    "        return True\n",
    "    else:\n",
    "        return False\n",
    "subsequence = [1,3,5]\n",
    "sequence = [1, 2, 3, 4, 5]\n",
    "\n",
    "if is_subsequence(subsequence, sequence):\n",
    "    print(\"The subsequence is present in the sequence\")\n",
    "else:\n",
    "    print(\"The subsequence is not present in the sequence\")   "
   ]
  },
  {
   "cell_type": "markdown",
   "id": "09bf75cd-f45b-43f5-b00b-93a73869a4ba",
   "metadata": {},
   "source": [
    "Q50. Swap two elements in a list by their indices."
   ]
  },
  {
   "cell_type": "code",
   "execution_count": 107,
   "id": "c958b082-0a05-40a9-bad7-22e9f557b9f0",
   "metadata": {},
   "outputs": [
    {
     "name": "stdout",
     "output_type": "stream",
     "text": [
      "[1, 5, 9, 3, 7, 6, 8]\n"
     ]
    }
   ],
   "source": [
    "list3=[1,5,6,3,7,9,8]\n",
    "index_1=2\n",
    "index_2=5\n",
    "temp = list3[index_1]\n",
    "list3[index_1]=list3[index_2]\n",
    "list3[index_2]=temp\n",
    "print(list3)"
   ]
  },
  {
   "cell_type": "markdown",
   "id": "c272b025-f744-44fd-bcf9-df931a2e7573",
   "metadata": {},
   "source": [
    "# Tuple based Question"
   ]
  },
  {
   "cell_type": "markdown",
   "id": "02198828-3347-43bc-8754-4a775e0bcfbc",
   "metadata": {},
   "source": [
    "Q1. Create a tuple with integers from 1 to 5."
   ]
  },
  {
   "cell_type": "code",
   "execution_count": 108,
   "id": "cf88c93a-b6b8-42c4-bdee-da27e689d25e",
   "metadata": {},
   "outputs": [
    {
     "name": "stdout",
     "output_type": "stream",
     "text": [
      "(1, 2, 3, 4, 5)\n"
     ]
    }
   ],
   "source": [
    "my_tuple=tuple(range(1,6))\n",
    "print(my_tuple)"
   ]
  },
  {
   "cell_type": "markdown",
   "id": "ff428004-0933-492c-8ddc-e5b226b5e96f",
   "metadata": {},
   "source": [
    "Q2. Access the third element of a tuple."
   ]
  },
  {
   "cell_type": "code",
   "execution_count": 109,
   "id": "6170041c-98ad-4136-a9cb-7d3b004810f0",
   "metadata": {},
   "outputs": [
    {
     "data": {
      "text/plain": [
       "3"
      ]
     },
     "execution_count": 109,
     "metadata": {},
     "output_type": "execute_result"
    }
   ],
   "source": [
    "my_tuple=(1,2,3,4,5)\n",
    "my_tuple[2]"
   ]
  },
  {
   "cell_type": "markdown",
   "id": "fbb21a87-9887-4889-9dc2-dcffe30f2797",
   "metadata": {},
   "source": [
    "Q3. Find the length of a tuple without using the `len()` function."
   ]
  },
  {
   "cell_type": "code",
   "execution_count": 110,
   "id": "5d6f7490-4b38-4f4f-a982-cc0a9fc56e9b",
   "metadata": {},
   "outputs": [
    {
     "name": "stdout",
     "output_type": "stream",
     "text": [
      "The length of the tuple :  5\n"
     ]
    }
   ],
   "source": [
    "my_tuple=(1,2,3,4,5)\n",
    "#initialize variable to count the number\n",
    "count=0\n",
    "#iterate thorugh the tuple and increment the count for each element in tuple\n",
    "for element in my_tuple:\n",
    "    count+=1\n",
    "print(\"The length of the tuple : \",count)"
   ]
  },
  {
   "cell_type": "markdown",
   "id": "57038331-97fc-4e01-bf27-7fc1d6aa7cbc",
   "metadata": {},
   "source": [
    "Q4. Count the occurrences of an element in a tuple."
   ]
  },
  {
   "cell_type": "code",
   "execution_count": 111,
   "id": "48a0f06a-72c6-4ff3-b1f0-eedb446965f3",
   "metadata": {},
   "outputs": [
    {
     "data": {
      "text/plain": [
       "3"
      ]
     },
     "execution_count": 111,
     "metadata": {},
     "output_type": "execute_result"
    }
   ],
   "source": [
    "my_tuple =(1,2,2,3,1,4,5,2)\n",
    "my_tuple.count(2)"
   ]
  },
  {
   "cell_type": "markdown",
   "id": "7e918db7-a816-461f-b8a2-ed1e4cba2664",
   "metadata": {},
   "source": [
    "OR"
   ]
  },
  {
   "cell_type": "code",
   "execution_count": 112,
   "id": "6577ed89-e6ec-49b5-a08c-a88130cea510",
   "metadata": {},
   "outputs": [
    {
     "name": "stdout",
     "output_type": "stream",
     "text": [
      "The occurence of element 2 is 3 times\n"
     ]
    }
   ],
   "source": [
    "my_tuple =(1,2,2,3,1,4,5,2)\n",
    "element_to_count=2\n",
    "count=0\n",
    "for item in my_tuple:\n",
    "    if item==element_to_count:\n",
    "        count+=1\n",
    "print(f\"The occurence of element {element_to_count} is {count} times\")"
   ]
  },
  {
   "cell_type": "markdown",
   "id": "dfdc0c1c-2657-4679-b291-4f9473ac1c1f",
   "metadata": {},
   "source": [
    "Q5. Find the index of the first occurrence of an element in a tuple."
   ]
  },
  {
   "cell_type": "code",
   "execution_count": 113,
   "id": "df7811e0-01b7-4bd3-a7c9-843e2e4a0130",
   "metadata": {},
   "outputs": [
    {
     "name": "stdout",
     "output_type": "stream",
     "text": [
      "The index of first occurence of element 2 is 1\n"
     ]
    }
   ],
   "source": [
    "my_tuple =(1,2,2,3,1,4,5,2)\n",
    "element_to_find=2\n",
    "index=my_tuple.index(element_to_find)\n",
    "print(f\"The index of first occurence of element {element_to_find} is {index}\")"
   ]
  },
  {
   "cell_type": "markdown",
   "id": "9f79dcfe-5d12-4a3a-86f7-e739b31298b3",
   "metadata": {},
   "source": [
    "Q6. Check if an element exists in a tuple."
   ]
  },
  {
   "cell_type": "code",
   "execution_count": 114,
   "id": "53ad48bc-e290-4ea2-bed8-f050745754f7",
   "metadata": {},
   "outputs": [
    {
     "name": "stdout",
     "output_type": "stream",
     "text": [
      "Yes, 3 exists in my_tuple\n"
     ]
    }
   ],
   "source": [
    "my_tuple =(1,2,2,3,1,4,5,2)\n",
    "if 3 in my_tuple:\n",
    "    print(\"Yes, 3 exists in my_tuple\")\n",
    "else:\n",
    "    print(\"No, 3 doesn't exists in tuple\")"
   ]
  },
  {
   "cell_type": "markdown",
   "id": "a19f2d45-0e54-4fa1-b3cf-e49ef1a7dd2d",
   "metadata": {},
   "source": [
    "Q7. Convert a tuple to a list."
   ]
  },
  {
   "cell_type": "code",
   "execution_count": 115,
   "id": "9a824fa0-29c3-40a2-acac-bef24fafdd72",
   "metadata": {},
   "outputs": [
    {
     "name": "stdout",
     "output_type": "stream",
     "text": [
      "[1, 2, 2, 3, 1, 4, 5, 2]\n"
     ]
    }
   ],
   "source": [
    "tuple1 =(1,2,2,3,1,4,5,2)\n",
    "my_list = list(tuple1)\n",
    "print(my_list)"
   ]
  },
  {
   "cell_type": "markdown",
   "id": "4a37de6e-b325-4777-a640-55658ffd854c",
   "metadata": {},
   "source": [
    "Q8. Convert a list to a tuple."
   ]
  },
  {
   "cell_type": "code",
   "execution_count": 116,
   "id": "677541b7-0a69-4c44-b468-d3c62c1d9e1f",
   "metadata": {},
   "outputs": [
    {
     "name": "stdout",
     "output_type": "stream",
     "text": [
      "(1, 2, 2, 3, 1, 4, 5, 2)\n"
     ]
    }
   ],
   "source": [
    "list1 = [1,2,2,3,1,4,5,2]\n",
    "my_tuple = tuple(list1)\n",
    "print(my_tuple)"
   ]
  },
  {
   "cell_type": "markdown",
   "id": "84913c6e-2f3a-4834-8098-affb0f15641b",
   "metadata": {},
   "source": [
    "Q9. Unpack the elements of a tuple into variables."
   ]
  },
  {
   "cell_type": "code",
   "execution_count": 117,
   "id": "420ac96b-749f-4b2a-81b8-013dae0786f5",
   "metadata": {},
   "outputs": [
    {
     "name": "stdout",
     "output_type": "stream",
     "text": [
      "10 20 30\n"
     ]
    }
   ],
   "source": [
    "tuple1=(10,20,30)\n",
    "var_1,var_2,var_3=tuple1\n",
    "print(var_1,var_2,var_3)"
   ]
  },
  {
   "cell_type": "markdown",
   "id": "dbc42bef-cf13-4f06-b1db-7421a198261f",
   "metadata": {},
   "source": [
    "Q10. Create a tuple of even numbers from 1 to 10."
   ]
  },
  {
   "cell_type": "code",
   "execution_count": 118,
   "id": "6679dea4-4a2e-4237-83e0-be5307ec38ee",
   "metadata": {},
   "outputs": [
    {
     "name": "stdout",
     "output_type": "stream",
     "text": [
      "(2, 4, 6, 8, 10)\n"
     ]
    }
   ],
   "source": [
    "list1 = [num for num in range(2,11,2)]\n",
    "my_tuple = tuple(list1)\n",
    "print(my_tuple)"
   ]
  },
  {
   "cell_type": "markdown",
   "id": "2cb169f3-ee0a-417b-8213-8b7e75648b46",
   "metadata": {},
   "source": [
    "Q11. Create a tuple of odd numbers from 1 to 10."
   ]
  },
  {
   "cell_type": "code",
   "execution_count": 119,
   "id": "8b18576b-17d1-495a-b8dc-6967502cd7ea",
   "metadata": {},
   "outputs": [
    {
     "name": "stdout",
     "output_type": "stream",
     "text": [
      "(1, 3, 5, 7, 9)\n"
     ]
    }
   ],
   "source": [
    "list2 = [num for num in range(1,10,2)]\n",
    "my_tuple = tuple(list2)\n",
    "print(my_tuple)"
   ]
  },
  {
   "cell_type": "markdown",
   "id": "2fad2aa8-acff-46ef-93df-33ec54302ef7",
   "metadata": {},
   "source": [
    "Q12. Concatenate two tuples."
   ]
  },
  {
   "cell_type": "code",
   "execution_count": 120,
   "id": "a31bda60-a401-4fea-ab1b-39d9ce659b15",
   "metadata": {},
   "outputs": [
    {
     "name": "stdout",
     "output_type": "stream",
     "text": [
      "(1, 3, 5, 7, 9, 2, 4, 6, 8)\n"
     ]
    }
   ],
   "source": [
    "tuple1=(1,3,5,7,9)\n",
    "tuple2=(2,4,6,8)\n",
    "concatenated_tuple = tuple1 + tuple2\n",
    "print(concatenated_tuple)"
   ]
  },
  {
   "cell_type": "markdown",
   "id": "bb023614-74d8-4929-9458-d9471b102645",
   "metadata": {},
   "source": [
    "Q13. Repeat a tuple three times."
   ]
  },
  {
   "cell_type": "code",
   "execution_count": 121,
   "id": "89c6a299-c747-4711-8ac5-9dd1fa579bf4",
   "metadata": {},
   "outputs": [
    {
     "name": "stdout",
     "output_type": "stream",
     "text": [
      "(1, 2, 3, 4, 5, 1, 2, 3, 4, 5, 1, 2, 3, 4, 5)\n"
     ]
    }
   ],
   "source": [
    "tuple2=(1,2,3,4,5)\n",
    "repeated_tuple = 3*tuple2\n",
    "print(repeated_tuple)"
   ]
  },
  {
   "cell_type": "markdown",
   "id": "823b3192-4682-41e2-8366-85ad8ba86e7c",
   "metadata": {},
   "source": [
    "Q14. Check if a tuple is empty."
   ]
  },
  {
   "cell_type": "code",
   "execution_count": 122,
   "id": "8e87e4bc-885e-4d74-8411-dc55b96bf659",
   "metadata": {},
   "outputs": [
    {
     "name": "stdout",
     "output_type": "stream",
     "text": [
      "tuple is not empty\n"
     ]
    }
   ],
   "source": [
    "tuple2=(1,2,3,4,5)\n",
    "empty_tuple=()\n",
    "if tuple2==():\n",
    "    print(\"tuple is empty\")\n",
    "else:\n",
    "    print(\"tuple is not empty\")"
   ]
  },
  {
   "cell_type": "markdown",
   "id": "71ae2b22-8ce7-4775-9fc9-250e7620f1f3",
   "metadata": {},
   "source": [
    "Q15. Create a nested tuple."
   ]
  },
  {
   "cell_type": "code",
   "execution_count": 123,
   "id": "38005c60-0e7c-4787-92ae-ba861ac5457f",
   "metadata": {},
   "outputs": [
    {
     "name": "stdout",
     "output_type": "stream",
     "text": [
      "nested_tuple :  ((1, 2, 3), ('a', 'b', 'c'), (True, False))\n"
     ]
    }
   ],
   "source": [
    "nested_tuple=((1,2,3),('a','b','c'),(True,False))\n",
    "print(\"nested_tuple : \", nested_tuple)"
   ]
  },
  {
   "cell_type": "markdown",
   "id": "8c54e6db-6f45-4cb6-b92a-8950aa2ffc7f",
   "metadata": {},
   "source": [
    "Q16. Access the first element of a nested tuple."
   ]
  },
  {
   "cell_type": "code",
   "execution_count": 124,
   "id": "8c50862a-b6bf-4e06-bd03-5e2e2af7f724",
   "metadata": {},
   "outputs": [
    {
     "data": {
      "text/plain": [
       "(1, 2, 3)"
      ]
     },
     "execution_count": 124,
     "metadata": {},
     "output_type": "execute_result"
    }
   ],
   "source": [
    "nested_tuple = ((1, 2, 3), ('a', 'b', 'c'), (True, False))\n",
    "nested_tuple[0]"
   ]
  },
  {
   "cell_type": "markdown",
   "id": "ddb8e81f-e688-44a8-8c49-8dddcd0e4a5c",
   "metadata": {},
   "source": [
    "Q17. Create a tuple with a single element."
   ]
  },
  {
   "cell_type": "code",
   "execution_count": 125,
   "id": "a36de3ee-fbc9-4302-afcc-349d5a5f9f23",
   "metadata": {},
   "outputs": [
    {
     "name": "stdout",
     "output_type": "stream",
     "text": [
      "(3,)\n"
     ]
    }
   ],
   "source": [
    "single_element_tuple=(3,)\n",
    "print(single_element_tuple)"
   ]
  },
  {
   "cell_type": "markdown",
   "id": "3d7f4167-7959-4ef0-a4d4-11262ea2e512",
   "metadata": {},
   "source": [
    "Q18. Compare two tuples."
   ]
  },
  {
   "cell_type": "code",
   "execution_count": 126,
   "id": "24a77e5a-b52e-4143-a25e-8aa5ac4b2293",
   "metadata": {},
   "outputs": [
    {
     "name": "stdout",
     "output_type": "stream",
     "text": [
      "tuple1==tuple2 :  False\n",
      "tuple1!=tuple2 :  True\n",
      "tuple1>=tuple2 :  False\n",
      "tuple1<=tuple2 :  True\n",
      "tuple1>tuple2 :  False\n",
      "tuple1<tuple2 :  True\n"
     ]
    }
   ],
   "source": [
    "tuple1 = (1,2,3)\n",
    "tuple2 = (1,2,4)\n",
    "print(\"tuple1==tuple2 : \",tuple1==tuple2)\n",
    "print(\"tuple1!=tuple2 : \",tuple1!=tuple2)\n",
    "print(\"tuple1>=tuple2 : \",tuple1>=tuple2)\n",
    "print(\"tuple1<=tuple2 : \",tuple1<=tuple2)\n",
    "print(\"tuple1>tuple2 : \",tuple1>tuple2)\n",
    "print(\"tuple1<tuple2 : \",tuple1<tuple2)"
   ]
  },
  {
   "cell_type": "markdown",
   "id": "604572e2-71ea-451d-844c-c1a728d1b6d6",
   "metadata": {},
   "source": [
    "Q19. Delete a tuple."
   ]
  },
  {
   "cell_type": "code",
   "execution_count": 127,
   "id": "824d65c4-0b54-4945-88c1-e93d5bb2f6cb",
   "metadata": {},
   "outputs": [
    {
     "ename": "NameError",
     "evalue": "name 'my_tuple' is not defined",
     "output_type": "error",
     "traceback": [
      "\u001b[1;31m---------------------------------------------------------------------------\u001b[0m",
      "\u001b[1;31mNameError\u001b[0m                                 Traceback (most recent call last)",
      "Cell \u001b[1;32mIn[127], line 4\u001b[0m\n\u001b[0;32m      2\u001b[0m \u001b[38;5;28;01mdel\u001b[39;00m my_tuple\n\u001b[0;32m      3\u001b[0m \u001b[38;5;66;03m#try to access the tuple\u001b[39;00m\n\u001b[1;32m----> 4\u001b[0m \u001b[38;5;28mprint\u001b[39m(my_tuple)\n",
      "\u001b[1;31mNameError\u001b[0m: name 'my_tuple' is not defined"
     ]
    }
   ],
   "source": [
    "my_tuple = (1,2,3,4,5)\n",
    "del my_tuple\n",
    "#try to access the tuple\n",
    "print(my_tuple)"
   ]
  },
  {
   "cell_type": "markdown",
   "id": "831a596c-8811-49f5-bc1e-ff294a7c7e20",
   "metadata": {},
   "source": [
    "Q20. Slice a tuple."
   ]
  },
  {
   "cell_type": "code",
   "execution_count": 128,
   "id": "301c0995-41c3-409b-98ec-a3b8984fc0b7",
   "metadata": {},
   "outputs": [
    {
     "data": {
      "text/plain": [
       "(3, 4, 5, 6)"
      ]
     },
     "execution_count": 128,
     "metadata": {},
     "output_type": "execute_result"
    }
   ],
   "source": [
    "tuple2 = (1,2,3,4,5,6,7,8)\n",
    "tuple2[2:6]"
   ]
  },
  {
   "cell_type": "markdown",
   "id": "044cc18e-4136-4fe3-8b9b-26e3206e04c0",
   "metadata": {},
   "source": [
    "Q21. Find the maximum value in a tuple."
   ]
  },
  {
   "cell_type": "code",
   "execution_count": 129,
   "id": "a2907eb9-c95a-4aab-9333-8846d1c603b6",
   "metadata": {},
   "outputs": [
    {
     "name": "stdout",
     "output_type": "stream",
     "text": [
      "8\n"
     ]
    }
   ],
   "source": [
    "tuple2 = (1,2,3,4,5,6,7,8)\n",
    "print(max(tuple2))"
   ]
  },
  {
   "cell_type": "markdown",
   "id": "215efd9e-3061-438f-ab85-cd37b35e83d7",
   "metadata": {},
   "source": [
    "Q22. Find the minimum value in a tuple."
   ]
  },
  {
   "cell_type": "code",
   "execution_count": 130,
   "id": "2c6ae2a3-7e3f-4d28-8a93-f22126dc3037",
   "metadata": {},
   "outputs": [
    {
     "name": "stdout",
     "output_type": "stream",
     "text": [
      "1\n"
     ]
    }
   ],
   "source": [
    "tuple2 = (1,2,3,4,5,6,7,8)\n",
    "print(min(tuple2))"
   ]
  },
  {
   "cell_type": "markdown",
   "id": "93a13c53-6881-418a-a95a-f5a71c526087",
   "metadata": {},
   "source": [
    "Q23. Convert a string to a tuple of characters."
   ]
  },
  {
   "cell_type": "code",
   "execution_count": 131,
   "id": "ec7f51ad-c66b-439b-8bbf-acf18ea68f7f",
   "metadata": {},
   "outputs": [
    {
     "name": "stdout",
     "output_type": "stream",
     "text": [
      "Tuple of characters :  ('H', 'e', 'l', 'l', 'o', ' ', 'W', 'o', 'r', 'l', 'd', '!')\n"
     ]
    }
   ],
   "source": [
    "string = \"Hello World!\"\n",
    "tuple_of_characters = tuple(string)\n",
    "print(\"Tuple of characters : \",tuple_of_characters)"
   ]
  },
  {
   "cell_type": "markdown",
   "id": "4faa88da-1fa3-4c78-8d46-b6f493f2da46",
   "metadata": {},
   "source": [
    "Q24. Convert a tuple of characters to a string."
   ]
  },
  {
   "cell_type": "code",
   "execution_count": 132,
   "id": "5a2abe13-49d4-4c10-a010-e5ff570ec3b3",
   "metadata": {},
   "outputs": [
    {
     "name": "stdout",
     "output_type": "stream",
     "text": [
      " String :  Hello World!\n"
     ]
    }
   ],
   "source": [
    "tuple_of_characters = ('H', 'e', 'l', 'l', 'o', ' ', 'W', 'o', 'r', 'l', 'd', '!')\n",
    "string = \"\".join(tuple_of_characters)\n",
    "print(\" String : \", string)"
   ]
  },
  {
   "cell_type": "markdown",
   "id": "6b9ef25d-fc9c-4e17-9881-428e501fa918",
   "metadata": {},
   "source": [
    "Q25. Create a tuple from multiple data types."
   ]
  },
  {
   "cell_type": "code",
   "execution_count": 133,
   "id": "a8a378f6-db7f-4adc-8179-ad62cb2ed764",
   "metadata": {},
   "outputs": [
    {
     "name": "stdout",
     "output_type": "stream",
     "text": [
      "(1, 'hello', 1.32, True)\n"
     ]
    }
   ],
   "source": [
    "tuple2=(1,\"hello\",1.32,True)\n",
    "print(tuple2)"
   ]
  },
  {
   "cell_type": "markdown",
   "id": "5a48a728-d665-456c-9c91-755bc6533354",
   "metadata": {},
   "source": [
    "Q26. Check if two tuples are identical."
   ]
  },
  {
   "cell_type": "code",
   "execution_count": 134,
   "id": "36e08225-9751-4796-905f-329ff94ebb2b",
   "metadata": {},
   "outputs": [
    {
     "name": "stdout",
     "output_type": "stream",
     "text": [
      "tuple1 and tuple2 are identical :  True\n",
      "tuple1 and tuple2 are identical :  False\n"
     ]
    }
   ],
   "source": [
    "tuple1 = (1,2,3)\n",
    "tuple2 = (1,2,3)\n",
    "tuple3 = (4,5,6)\n",
    "#two tuples are identical if they have same length and same elements\n",
    "are_identical1 = tuple1==tuple2\n",
    "are_identical2 = tuple1==tuple3\n",
    "print(\"tuple1 and tuple2 are identical : \", are_identical1)\n",
    "print(\"tuple1 and tuple2 are identical : \", are_identical2)"
   ]
  },
  {
   "cell_type": "markdown",
   "id": "68943615-2640-49c1-a072-0814818c0b66",
   "metadata": {},
   "source": [
    "Q27. Sort the elements of a tuple."
   ]
  },
  {
   "cell_type": "code",
   "execution_count": 135,
   "id": "8df48d24-8a68-4620-9f3b-f1b819da12c5",
   "metadata": {},
   "outputs": [
    {
     "name": "stdout",
     "output_type": "stream",
     "text": [
      "(2, 3, 6, 7, 8, 9)\n"
     ]
    }
   ],
   "source": [
    "my_tuple=(6,7,3,9,2,8)\n",
    "sorted_tuple = tuple(sorted(my_tuple))\n",
    "print(sorted_tuple)"
   ]
  },
  {
   "cell_type": "markdown",
   "id": "56789daa-5a2d-46c6-8645-ef066787b32c",
   "metadata": {},
   "source": [
    "Q28. Convert a tuple of integers to a tuple of strings."
   ]
  },
  {
   "cell_type": "code",
   "execution_count": 136,
   "id": "fce9b854-b551-46ff-aefc-c8af075f644d",
   "metadata": {},
   "outputs": [
    {
     "name": "stdout",
     "output_type": "stream",
     "text": [
      "('1', '2', '3', '4', '5')\n"
     ]
    }
   ],
   "source": [
    "tuple_integer = (1,2,3,4,5)\n",
    "tuple_of_string = tuple(str(item) for item in tuple_integer)\n",
    "print(tuple_of_string)"
   ]
  },
  {
   "cell_type": "markdown",
   "id": "8f6ec0db-3bba-4bf4-b0c6-6b3c686070f9",
   "metadata": {},
   "source": [
    "Q29. Convert a tuple of strings to a tuple of integers."
   ]
  },
  {
   "cell_type": "code",
   "execution_count": 137,
   "id": "5469e11f-10cb-4c9c-bfd7-dbd5daf8e118",
   "metadata": {},
   "outputs": [
    {
     "name": "stdout",
     "output_type": "stream",
     "text": [
      "(1, 2, 3, 4, 5)\n"
     ]
    }
   ],
   "source": [
    "tuple_of_string = ('1', '2', '3', '4', '5')\n",
    "tuple_integer = tuple(int(item) for item in tuple_of_string)\n",
    "print(tuple_integer)"
   ]
  },
  {
   "cell_type": "markdown",
   "id": "0b490bdf-3b57-4906-a3ad-c2ed6df03076",
   "metadata": {},
   "source": [
    "Q30. Merge two tuples."
   ]
  },
  {
   "cell_type": "code",
   "execution_count": 138,
   "id": "ee5d071a-ce6a-41fe-bebe-67d59ce89392",
   "metadata": {},
   "outputs": [
    {
     "name": "stdout",
     "output_type": "stream",
     "text": [
      "(1, 2, 3, 4, 5, 6, 7, 8)\n"
     ]
    }
   ],
   "source": [
    "tuple1=(1,2,3,4)\n",
    "tuple2=(5,6,7,8)\n",
    "tuple3 = tuple1 + tuple2\n",
    "print(tuple3)"
   ]
  },
  {
   "cell_type": "markdown",
   "id": "e02d8252-3705-4bac-beae-49d123fa7da8",
   "metadata": {},
   "source": [
    "Q31. Flatten a nested tuple."
   ]
  },
  {
   "cell_type": "code",
   "execution_count": 139,
   "id": "088df1c1-255d-458d-8fe0-b4a8e929c1c3",
   "metadata": {},
   "outputs": [
    {
     "name": "stdout",
     "output_type": "stream",
     "text": [
      "(1, 2, 3, 4, 5, 6)\n"
     ]
    }
   ],
   "source": [
    "nested_tuple = ((1,2),(3,4),(5,6))\n",
    "flattened_tuple=()\n",
    "for subtuple in nested_tuple:\n",
    "    for element in subtuple:\n",
    "        flattened_tuple+=(element,)#because we can't use append operation tuple\n",
    "print(flattened_tuple)"
   ]
  },
  {
   "cell_type": "markdown",
   "id": "8583f39a-829d-4546-b76f-b8d19b82d0b8",
   "metadata": {},
   "source": [
    "Q32. Create a tuple of the first 5 prime numbers."
   ]
  },
  {
   "cell_type": "code",
   "execution_count": 140,
   "id": "0e39ecb0-071c-46b4-bbd1-26353a006631",
   "metadata": {},
   "outputs": [
    {
     "name": "stdout",
     "output_type": "stream",
     "text": [
      "(2, 3, 5, 7, 11)\n"
     ]
    }
   ],
   "source": [
    "def is_prime(num):\n",
    "    if num<=1:\n",
    "        return False\n",
    "    for i in range(2,num):\n",
    "        if num%i==0:\n",
    "            return False\n",
    "    return True\n",
    "prime_numbers=()\n",
    "for num in range(2,12):\n",
    "    if is_prime(num):\n",
    "        prime_numbers+=(num,)\n",
    "print(prime_numbers)"
   ]
  },
  {
   "cell_type": "markdown",
   "id": "350f3a83-5e5a-4c8e-9e3c-18c920ceb1db",
   "metadata": {},
   "source": [
    "Q33. Check if a tuple is a palindrome."
   ]
  },
  {
   "cell_type": "code",
   "execution_count": 141,
   "id": "595e8a02-8522-411c-9e70-704c72ab3348",
   "metadata": {},
   "outputs": [
    {
     "name": "stdout",
     "output_type": "stream",
     "text": [
      "tuple1 is a palindrome tuple :  True\n",
      "tuple2 is a palindrome tuple :  False\n"
     ]
    }
   ],
   "source": [
    "def is_palindrome(tuple):\n",
    "    return tuple==tuple[::-1]#to remove space and convert it into lowercase\n",
    "tuple1 = (1,2,3,2,1)\n",
    "tuple2 = (1,2,3,4,5)\n",
    "is_palindrome1 = is_palindrome(tuple1)\n",
    "is_palindrome2 = is_palindrome(tuple2)\n",
    "print(\"tuple1 is a palindrome tuple : \", is_palindrome1)\n",
    "print(\"tuple2 is a palindrome tuple : \", is_palindrome2)"
   ]
  },
  {
   "cell_type": "markdown",
   "id": "74122560-a019-4dc4-876e-7b5782273eff",
   "metadata": {},
   "source": [
    "Q34. Create a tuple of squares of numbers from 1 to 5."
   ]
  },
  {
   "cell_type": "code",
   "execution_count": 142,
   "id": "af2a2b63-1784-407b-b297-2094ad3dd2f5",
   "metadata": {},
   "outputs": [
    {
     "name": "stdout",
     "output_type": "stream",
     "text": [
      "Square tuple :  (1, 4, 9, 16, 25)\n"
     ]
    }
   ],
   "source": [
    "squares_tuple = tuple(x**2 for x in range(1,6))\n",
    "print(\"Square tuple : \", squares_tuple)"
   ]
  },
  {
   "cell_type": "markdown",
   "id": "23d6488e-1bf4-447c-8694-f52535bdb620",
   "metadata": {},
   "source": [
    "Q35. Filter out all even numbers from a tuple."
   ]
  },
  {
   "cell_type": "code",
   "execution_count": 143,
   "id": "6db0b162-efba-4adc-b3c7-81be65eea2ce",
   "metadata": {},
   "outputs": [
    {
     "name": "stdout",
     "output_type": "stream",
     "text": [
      "(2, 4, 6, 8)\n"
     ]
    }
   ],
   "source": [
    "even_tuple = tuple(num for num in range(1,10) if num%2 == 0)\n",
    "print(even_tuple)"
   ]
  },
  {
   "cell_type": "code",
   "execution_count": 144,
   "id": "a3d19159-a42a-4787-ad45-ac0692fc2e2f",
   "metadata": {},
   "outputs": [
    {
     "name": "stdout",
     "output_type": "stream",
     "text": [
      "(2, 4, 6, 8, 10)\n"
     ]
    }
   ],
   "source": [
    "numbers_tuple = tuple(range(1,11))\n",
    "even_numbers=tuple(filter(lambda x : x%2==0 , numbers_tuple))\n",
    "print(even_numbers)"
   ]
  },
  {
   "cell_type": "markdown",
   "id": "97f49caf-410f-4053-a2f3-a6e6e7e21b2b",
   "metadata": {},
   "source": [
    "Q36. Multiply all elements in a tuple by 2."
   ]
  },
  {
   "cell_type": "code",
   "execution_count": 145,
   "id": "f86e5d0f-d59b-4505-bdf7-e606fc07a3d2",
   "metadata": {},
   "outputs": [
    {
     "name": "stdout",
     "output_type": "stream",
     "text": [
      "(2, 4, 6, 8, 10)\n"
     ]
    }
   ],
   "source": [
    "new_tuple = tuple(num*2 for num in range(1,6))\n",
    "print(new_tuple)"
   ]
  },
  {
   "cell_type": "markdown",
   "id": "7c448bcd-20a1-44af-a37e-0a48a44854c2",
   "metadata": {},
   "source": [
    "Q37. Create a tuple of random numbers."
   ]
  },
  {
   "cell_type": "code",
   "execution_count": 146,
   "id": "e22c93d5-758f-4fd1-b8d2-9de5c6f6f1cb",
   "metadata": {},
   "outputs": [
    {
     "name": "stdout",
     "output_type": "stream",
     "text": [
      "random tuple :  (97, 36, 35, 1, 42, 41, 89, 92, 22, 47)\n"
     ]
    }
   ],
   "source": [
    "import random\n",
    "#creating a tuple of random numbers by using list comprehension\n",
    "random_tuple = tuple(random.randint(1,100) for _ in range(10))\n",
    "print(\"random tuple : \",random_tuple)"
   ]
  },
  {
   "cell_type": "markdown",
   "id": "cc2e6282-a5d4-4b16-8ddb-dc2f467adb0d",
   "metadata": {},
   "source": [
    "Q38. Check if a tuple is sorted."
   ]
  },
  {
   "cell_type": "code",
   "execution_count": 147,
   "id": "7d7fc275-f48d-492b-a09f-071d4323c96a",
   "metadata": {},
   "outputs": [
    {
     "data": {
      "text/plain": [
       "True"
      ]
     },
     "execution_count": 147,
     "metadata": {},
     "output_type": "execute_result"
    }
   ],
   "source": [
    "def is_tuple_sorted(t):\n",
    "    for i in range(1,len(t)):\n",
    "        if t[i] < t[i-1]:\n",
    "            return False\n",
    "    return True\n",
    "t = (1,2,3,4,5)\n",
    "is_tuple_sorted(t)     "
   ]
  },
  {
   "cell_type": "markdown",
   "id": "4677a8fc-9901-42a6-b706-f5ea946cf063",
   "metadata": {},
   "source": [
    "Q39. Rotate a tuple to the left by `n` positions."
   ]
  },
  {
   "cell_type": "code",
   "execution_count": 148,
   "id": "284f05f3-2806-4b8d-b686-2ff54f911838",
   "metadata": {},
   "outputs": [],
   "source": [
    "def rotate_left(tuple,n):\n",
    "    if n<=0 or n>len(tuple):\n",
    "        raise ValueError(\"Invalid number of rotations\")\n",
    "        \n",
    "    rotated_tuple=tuple[n:]+tuple[:n]\n",
    "    return rotated_tuple"
   ]
  },
  {
   "cell_type": "code",
   "execution_count": 149,
   "id": "79a5af30-6632-4097-9bd5-9166cc175468",
   "metadata": {},
   "outputs": [
    {
     "name": "stdout",
     "output_type": "stream",
     "text": [
      "(4, 5, 6, 1, 2, 3)\n"
     ]
    }
   ],
   "source": [
    "tuple3=(1,2,3,4,5,6)\n",
    "n=3\n",
    "rotated_tuple=rotate_left(tuple3,3)\n",
    "print(rotated_tuple)"
   ]
  },
  {
   "cell_type": "markdown",
   "id": "d8f2b61f-2416-4aa1-8c8d-4da2f58b6e13",
   "metadata": {},
   "source": [
    "Q40. Rotate a tuple to the right by `n` positions."
   ]
  },
  {
   "cell_type": "code",
   "execution_count": 150,
   "id": "b0c9bdef-a15a-4ab7-a530-b51f484f5c47",
   "metadata": {},
   "outputs": [],
   "source": [
    "def rotate_right(tuple3,n):\n",
    "    if n<=0 or n>len(tuple3):\n",
    "        raise ValueError(\"Invalid number of iteration\")\n",
    "        \n",
    "    rotated_tuple=tuple3[n:]+tuple3[:n]\n",
    "    return rotated_tuple"
   ]
  },
  {
   "cell_type": "code",
   "execution_count": 151,
   "id": "b28afa41-7a6d-438e-bdc1-06a1015b9aff",
   "metadata": {},
   "outputs": [
    {
     "name": "stdout",
     "output_type": "stream",
     "text": [
      "(3, 4, 5, 6, 1, 2)\n"
     ]
    }
   ],
   "source": [
    "tuple3=(1,2,3,4,5,6)\n",
    "n=4\n",
    "rotated_tuple=rotate_right(tuple3,2)\n",
    "print(rotated_tuple)"
   ]
  },
  {
   "cell_type": "markdown",
   "id": "b97002bc-9678-463d-b750-a0646f653a80",
   "metadata": {},
   "source": [
    "Q41. Create a tuple of the first 5 Fibonacci numbers."
   ]
  },
  {
   "cell_type": "code",
   "execution_count": 152,
   "id": "6a3a001c-7e2e-462b-86c2-b13ffba62e92",
   "metadata": {},
   "outputs": [
    {
     "name": "stdout",
     "output_type": "stream",
     "text": [
      "[0, 1, 1, 2, 3]\n"
     ]
    }
   ],
   "source": [
    "def fibonacci(n):\n",
    "    if n==0:\n",
    "        return 0\n",
    "    elif n==1:\n",
    "        return 1\n",
    "    else:\n",
    "        return fibonacci(n-1)+fibonacci(n-2)\n",
    "fibonacci_num = []\n",
    "for i in range(5):\n",
    "    fibonacci_num.append(fibonacci(i))\n",
    "print(fibonacci_num)"
   ]
  },
  {
   "cell_type": "markdown",
   "id": "cca6ce99-57a3-48a9-a4ca-25cef33f7601",
   "metadata": {},
   "source": [
    "Q42. Create a tuple from user input."
   ]
  },
  {
   "cell_type": "code",
   "execution_count": 154,
   "id": "a1ccb19d-be16-46cf-b88a-1184282f7465",
   "metadata": {},
   "outputs": [
    {
     "name": "stdout",
     "output_type": "stream",
     "text": [
      "Enter elements seperated by comma : ineuron,pw,vaibhav\n",
      "Tuple created from user_input is :  ('ineuron', 'pw', 'vaibhav')\n"
     ]
    }
   ],
   "source": [
    "user_input = input(\"Enter elements seperated by comma : \")\n",
    "user_tuple=tuple(user_input.split(\",\"))\n",
    "print(\"Tuple created from user_input is : \",user_tuple)"
   ]
  },
  {
   "cell_type": "markdown",
   "id": "0b0b11ab-c744-4ce2-98e1-ec44a3fb2113",
   "metadata": {},
   "source": [
    "Q43. Swap two elements in a tuple."
   ]
  },
  {
   "cell_type": "code",
   "execution_count": 155,
   "id": "99b3c429-5d8c-41ee-84d8-e0b982373f8d",
   "metadata": {},
   "outputs": [
    {
     "name": "stdout",
     "output_type": "stream",
     "text": [
      "swapped_tuple :  (1, 5, 3, 4, 2, 6, 7, 8)\n"
     ]
    }
   ],
   "source": [
    "my_tuple=(1,2,3,4,5,6,7,8)\n",
    "index1=1\n",
    "index2=4\n",
    "#convert the tuple into list\n",
    "tuple_list=list(my_tuple)\n",
    "#swap the element in the list\n",
    "tuple_list[index1],tuple_list[index2]=tuple_list[index2],tuple_list[index1]\n",
    "swapped_tuple=tuple(tuple_list)\n",
    "print(\"swapped_tuple : \",swapped_tuple)"
   ]
  },
  {
   "cell_type": "markdown",
   "id": "53b004fe-5445-443e-8316-f4178a070121",
   "metadata": {},
   "source": [
    "Q44. Reverse the elements of a tuple."
   ]
  },
  {
   "cell_type": "code",
   "execution_count": 156,
   "id": "4c11e287-b256-4687-a8ca-4234a3ad7f9a",
   "metadata": {},
   "outputs": [
    {
     "name": "stdout",
     "output_type": "stream",
     "text": [
      "(8, 7, 6, 5, 4, 3, 2, 1)\n"
     ]
    }
   ],
   "source": [
    "my_tuple=(1,2,3,4,5,6,7,8)\n",
    "reverse_tuple = my_tuple[::-1]\n",
    "print(reverse_tuple)"
   ]
  },
  {
   "cell_type": "markdown",
   "id": "69cbb935-c072-4a33-a062-1c3cf17869a9",
   "metadata": {},
   "source": [
    "Q45.  Create a tuple of the first `n` powers of 2."
   ]
  },
  {
   "cell_type": "code",
   "execution_count": 157,
   "id": "718e1d6c-cd87-4ffd-8a86-f36f4f8f28f4",
   "metadata": {},
   "outputs": [
    {
     "name": "stdout",
     "output_type": "stream",
     "text": [
      "tuple of first n power of 2 is :  [1, 2, 4, 8, 16]\n"
     ]
    }
   ],
   "source": [
    "n=5\n",
    "#create a tuple of the first n powers of 2 using a list comprehension\n",
    "power_of_2_tuple=[2**i for i in range(n)]\n",
    "print(\"tuple of first n power of 2 is : \",power_of_2_tuple)"
   ]
  },
  {
   "cell_type": "markdown",
   "id": "42134ed3-22f5-42ee-9410-9afa5a624043",
   "metadata": {},
   "source": [
    "Q46. Find the longest string in a tuple of strings."
   ]
  },
  {
   "cell_type": "code",
   "execution_count": 158,
   "id": "3db1201b-db29-4145-bbc6-66c5cc104338",
   "metadata": {},
   "outputs": [
    {
     "name": "stdout",
     "output_type": "stream",
     "text": [
      "Vaibhav\n"
     ]
    }
   ],
   "source": [
    "string_tuple=(\"Vaibhav\",\"bansal\",\"kumar\",\"sharma\")\n",
    "max_str_len=max(string_tuple,key=len)\n",
    "print(max_str_len)"
   ]
  },
  {
   "cell_type": "markdown",
   "id": "9a71d50b-2ef3-4a0a-9e94-989d630ffc6a",
   "metadata": {},
   "source": [
    "Q47. Find the shortest string in a tuple of strings."
   ]
  },
  {
   "cell_type": "code",
   "execution_count": 159,
   "id": "4b03d4b8-9dcf-4bb7-b8b3-8f89abfbd9dd",
   "metadata": {},
   "outputs": [
    {
     "name": "stdout",
     "output_type": "stream",
     "text": [
      "kumar\n"
     ]
    }
   ],
   "source": [
    "string_tuple=(\"Vaibhav\",\"bansal\",\"kumar\",\"sharma\")\n",
    "min_str_len=min(string_tuple,key=len)\n",
    "print(min_str_len)"
   ]
  },
  {
   "cell_type": "markdown",
   "id": "855977c7-ba06-4c95-b3e5-274e563d4d30",
   "metadata": {},
   "source": [
    "Q48. Create a tuple of the first n triangular numbers."
   ]
  },
  {
   "cell_type": "code",
   "execution_count": 160,
   "id": "501475fb-a5de-4cd5-9ac1-a5dea78b5f8c",
   "metadata": {},
   "outputs": [
    {
     "name": "stdout",
     "output_type": "stream",
     "text": [
      "(1, 3, 6, 10, 15)\n"
     ]
    }
   ],
   "source": [
    "n=5\n",
    "triangular_number_tuple=tuple(i*(i+1)//2 for i in range(1,n+1))\n",
    "print(triangular_number_tuple)"
   ]
  },
  {
   "cell_type": "markdown",
   "id": "822c9ef1-7ebc-4efe-9cbc-24ee4d8c43c2",
   "metadata": {},
   "source": [
    "Q49. Check if a tuple contains another tuple as a subsequence."
   ]
  },
  {
   "cell_type": "code",
   "execution_count": 161,
   "id": "37a196fd-7e9c-4b2d-8e52-812ce7c22f06",
   "metadata": {},
   "outputs": [
    {
     "name": "stdout",
     "output_type": "stream",
     "text": [
      "The subsequence is present in the sequence\n"
     ]
    }
   ],
   "source": [
    "def is_subsequence(subsequence,sequence):\n",
    "    if len(sequence)<len(subsequence):\n",
    "        return False\n",
    "    i=0\n",
    "    j=0\n",
    "    while i<len(sequence) and j<len(subsequence):\n",
    "        if sequence[i]==subsequence[j]:\n",
    "            i+=1\n",
    "            j+=1\n",
    "        else:\n",
    "            i+=1\n",
    "#If the index j reaches the length of the subsequence, it means that all elements of the \n",
    "#subsequence have been matched in the sequence and the function returns True\n",
    "    if j==len(subsequence):\n",
    "        return True\n",
    "    else:\n",
    "        return False\n",
    "subsequence = (1,3,5)\n",
    "sequence = (1,2,3,4,5)\n",
    "if is_subsequence(subsequence, sequence):\n",
    "    print(\"The subsequence is present in the sequence\")\n",
    "else:\n",
    "    print(\"The subsequence is not present in the sequence\")"
   ]
  },
  {
   "cell_type": "markdown",
   "id": "5f5ae562-4ac5-4108-9061-461616b322ce",
   "metadata": {},
   "source": [
    "Q50. Create a tuple of alternating 1s and 0s of length `n`."
   ]
  },
  {
   "cell_type": "code",
   "execution_count": 162,
   "id": "476fb747-e9c3-4c79-99b0-7ef62c7e8be5",
   "metadata": {},
   "outputs": [
    {
     "name": "stdout",
     "output_type": "stream",
     "text": [
      "(0, 1, 0, 1, 0, 1, 0, 1, 0, 1)\n"
     ]
    }
   ],
   "source": [
    "n=10\n",
    "# Create a tuple of alternating 1s and 0s using a list comprehension\n",
    "alternating_tuple = tuple(i%2 for i in range(10))\n",
    "print(alternating_tuple)"
   ]
  },
  {
   "cell_type": "markdown",
   "id": "adce5e52-298d-442b-8c98-91129a3e0c7c",
   "metadata": {},
   "source": [
    "# Set based question"
   ]
  },
  {
   "cell_type": "markdown",
   "id": "c67bbbe4-66f4-41f1-bc18-c765d9d30333",
   "metadata": {},
   "source": [
    "Q1. Create a set with integers from 1 to 5."
   ]
  },
  {
   "cell_type": "code",
   "execution_count": 163,
   "id": "9c9eaf3e-45a8-4153-997c-8b0ba24b2542",
   "metadata": {},
   "outputs": [
    {
     "name": "stdout",
     "output_type": "stream",
     "text": [
      "{1, 2, 3, 4, 5}\n"
     ]
    }
   ],
   "source": [
    "integer_set=set(range(1,6))\n",
    "print(integer_set)"
   ]
  },
  {
   "cell_type": "markdown",
   "id": "1d983276-8bb7-4d77-be88-a2c22046c92e",
   "metadata": {},
   "source": [
    "Q2. Add an element to a set."
   ]
  },
  {
   "cell_type": "code",
   "execution_count": 164,
   "id": "549697a3-fc5d-4b3c-9886-8e3d8626a79f",
   "metadata": {},
   "outputs": [
    {
     "name": "stdout",
     "output_type": "stream",
     "text": [
      "{1, 2, 3, 4, 5, 6}\n"
     ]
    }
   ],
   "source": [
    "my_set={1, 2, 3, 4, 5}\n",
    "element_to_add=6\n",
    "my_set.add(element_to_add)\n",
    "print(my_set)"
   ]
  },
  {
   "cell_type": "markdown",
   "id": "fe30ea52-d4bc-4ed6-a3aa-30a65fe09abb",
   "metadata": {},
   "source": [
    "Q3. Remove an element from a set."
   ]
  },
  {
   "cell_type": "code",
   "execution_count": 165,
   "id": "a78b3524-b475-42b6-8e77-7d64f7b2fc35",
   "metadata": {},
   "outputs": [
    {
     "name": "stdout",
     "output_type": "stream",
     "text": [
      "{1, 2, 3, 4}\n"
     ]
    }
   ],
   "source": [
    "my_set={1, 2, 3, 4, 5}\n",
    "element_to_remove=5\n",
    "my_set.remove(element_to_remove)\n",
    "print(my_set)"
   ]
  },
  {
   "cell_type": "markdown",
   "id": "15875825-694c-4d04-8de0-64f48dcc9cab",
   "metadata": {},
   "source": [
    "Q4. Check if an element exists in a set."
   ]
  },
  {
   "cell_type": "code",
   "execution_count": 166,
   "id": "00b8c635-73dd-46c3-9518-f906f60d1bbe",
   "metadata": {},
   "outputs": [
    {
     "name": "stdout",
     "output_type": "stream",
     "text": [
      "Enter the element to check : 3\n",
      "3 exist in the set\n"
     ]
    }
   ],
   "source": [
    "my_set={1, 2, 3, 4, 5}\n",
    "element_to_check = int(input(\"Enter the element to check : \"))\n",
    "if element_to_check in my_set:\n",
    "    print(f\"{element_to_check} exist in the set\")\n",
    "else:\n",
    "    print(f\"{element_to_check} does not exist in the set\")"
   ]
  },
  {
   "cell_type": "markdown",
   "id": "262a0085-6eb2-49a1-806a-59727f4431e2",
   "metadata": {},
   "source": [
    "Q5. Find the length of a set without using the `len()` function."
   ]
  },
  {
   "cell_type": "code",
   "execution_count": 167,
   "id": "989ce31b-06b5-4fff-8467-7a8106101966",
   "metadata": {},
   "outputs": [
    {
     "name": "stdout",
     "output_type": "stream",
     "text": [
      "5\n"
     ]
    }
   ],
   "source": [
    "my_set={1,2,3,4,5}\n",
    "count=0\n",
    "for element in my_set:\n",
    "    count+=1\n",
    "print(len(my_set))"
   ]
  },
  {
   "cell_type": "markdown",
   "id": "dd966572-0773-4423-9e19-bab3a3bad6aa",
   "metadata": {},
   "source": [
    "Q6. Clear all elements from a set."
   ]
  },
  {
   "cell_type": "code",
   "execution_count": 168,
   "id": "5f3bb5b3-3020-45cc-83a5-2ebb9b71131f",
   "metadata": {},
   "outputs": [
    {
     "name": "stdout",
     "output_type": "stream",
     "text": [
      "set()\n"
     ]
    }
   ],
   "source": [
    "my_set={1,2,3,4,5}\n",
    "my_set.clear()\n",
    "print(my_set)"
   ]
  },
  {
   "cell_type": "markdown",
   "id": "8e1816c4-d6cc-4280-866f-3bb448fa4517",
   "metadata": {},
   "source": [
    "Q7. Create a set of even numbers from 1 to 10."
   ]
  },
  {
   "cell_type": "code",
   "execution_count": 169,
   "id": "b19b481e-4f49-4ebd-9001-27a2dc034b39",
   "metadata": {},
   "outputs": [
    {
     "name": "stdout",
     "output_type": "stream",
     "text": [
      "{2, 4, 6, 8, 10}\n"
     ]
    }
   ],
   "source": [
    "my_set = set([i for i in range(1,11) if i%2==0])\n",
    "print(my_set)"
   ]
  },
  {
   "cell_type": "markdown",
   "id": "efebf058-c883-430f-ae20-59156142531c",
   "metadata": {},
   "source": [
    "Q8. Create a set of odd numbers from 1 to 10."
   ]
  },
  {
   "cell_type": "code",
   "execution_count": 170,
   "id": "62c990f5-4710-48c8-aa43-fe334f3c240b",
   "metadata": {},
   "outputs": [
    {
     "name": "stdout",
     "output_type": "stream",
     "text": [
      "{1, 3, 5, 7, 9}\n"
     ]
    }
   ],
   "source": [
    "my_set = set([i for i in range(1,11) if i%2!=0])\n",
    "print(my_set)"
   ]
  },
  {
   "cell_type": "markdown",
   "id": "acee2525-29f5-4f8b-a528-4f230fa12c9f",
   "metadata": {},
   "source": [
    "Q9. Find the union of two sets."
   ]
  },
  {
   "cell_type": "code",
   "execution_count": 171,
   "id": "ec8768a6-5295-49b3-bb3a-fdbc3783603c",
   "metadata": {},
   "outputs": [
    {
     "data": {
      "text/plain": [
       "{1, 2, 3, 4, 5, 6}"
      ]
     },
     "execution_count": 171,
     "metadata": {},
     "output_type": "execute_result"
    }
   ],
   "source": [
    "set1={1,2,3,4}\n",
    "set2={3,4,5,6}\n",
    "set1.union(set2)"
   ]
  },
  {
   "cell_type": "markdown",
   "id": "3eedc2d7-e231-4774-9a33-f3efbda725b9",
   "metadata": {},
   "source": [
    "Q10. Find the intersection of two sets."
   ]
  },
  {
   "cell_type": "code",
   "execution_count": 172,
   "id": "4576f99b-ebd8-4e2f-8c0a-5d6191f7b8c6",
   "metadata": {},
   "outputs": [
    {
     "data": {
      "text/plain": [
       "{3, 4}"
      ]
     },
     "execution_count": 172,
     "metadata": {},
     "output_type": "execute_result"
    }
   ],
   "source": [
    "set1={1,2,3,4}\n",
    "set2={3,4,5,6}\n",
    "set1.intersection(set2)"
   ]
  },
  {
   "cell_type": "markdown",
   "id": "916c09ad-d958-4e92-b393-12f4187e67bd",
   "metadata": {},
   "source": [
    "Q11. Find the difference between two sets."
   ]
  },
  {
   "cell_type": "code",
   "execution_count": 173,
   "id": "87fd953a-ee0e-4045-8089-2580395597b6",
   "metadata": {},
   "outputs": [
    {
     "data": {
      "text/plain": [
       "{1, 2}"
      ]
     },
     "execution_count": 173,
     "metadata": {},
     "output_type": "execute_result"
    }
   ],
   "source": [
    "set1={1,2,3,4}\n",
    "set2={3,4,5,6}\n",
    "set1.difference(set2)"
   ]
  },
  {
   "cell_type": "markdown",
   "id": "fece132e-a1bf-461c-adeb-86afda106e7c",
   "metadata": {},
   "source": [
    "Q12. Check if a set is a subset of another set."
   ]
  },
  {
   "cell_type": "code",
   "execution_count": 174,
   "id": "3bb1340a-f03d-449f-9faf-f8b8add4d067",
   "metadata": {},
   "outputs": [
    {
     "data": {
      "text/plain": [
       "True"
      ]
     },
     "execution_count": 174,
     "metadata": {},
     "output_type": "execute_result"
    }
   ],
   "source": [
    "set1={1,2,3,4}\n",
    "set2={1,2,3,4,5,6}\n",
    "# Use the \"issubset()\" method to check if set1 is a subset of set2\n",
    "set1.issubset(set2)"
   ]
  },
  {
   "cell_type": "markdown",
   "id": "fe329c22-e1b6-4f9e-81e8-7dd1ae33f131",
   "metadata": {},
   "source": [
    "Q13. Check if a set is a superset of another set."
   ]
  },
  {
   "cell_type": "code",
   "execution_count": 175,
   "id": "d3812ce5-5576-46e6-b423-ea127eb567d8",
   "metadata": {},
   "outputs": [
    {
     "data": {
      "text/plain": [
       "True"
      ]
     },
     "execution_count": 175,
     "metadata": {},
     "output_type": "execute_result"
    }
   ],
   "source": [
    "set1={1,2,3,4,5,6}\n",
    "set2={1,2,3}\n",
    "# Use the \"issuperset()\" method to check if set1 is a superset of set2\n",
    "set1.issuperset(set2)"
   ]
  },
  {
   "cell_type": "markdown",
   "id": "835b142a-25d4-4ebd-b87b-18589b6ea032",
   "metadata": {},
   "source": [
    "Q14. Create a set from a list."
   ]
  },
  {
   "cell_type": "code",
   "execution_count": 176,
   "id": "4b2a9f74-5b59-4c7c-bd71-d15f3c71e58c",
   "metadata": {},
   "outputs": [
    {
     "name": "stdout",
     "output_type": "stream",
     "text": [
      "{1, 2, 3, 4, 5, 6}\n"
     ]
    }
   ],
   "source": [
    "list1=[1,2,3,4,5,6]\n",
    "print(set(list1))"
   ]
  },
  {
   "cell_type": "markdown",
   "id": "de0fccef-0462-46f3-b5d6-7afdef0172a3",
   "metadata": {},
   "source": [
    "Q15. Convert a set to a list."
   ]
  },
  {
   "cell_type": "code",
   "execution_count": 177,
   "id": "fb8a438e-6e53-4786-b7c4-fe9837e1db4d",
   "metadata": {},
   "outputs": [
    {
     "name": "stdout",
     "output_type": "stream",
     "text": [
      "[1, 2, 3, 4, 5, 6]\n"
     ]
    }
   ],
   "source": [
    "set1 = {1, 2, 3, 4, 5, 6}\n",
    "new_list=list(set1)\n",
    "print(new_list)"
   ]
  },
  {
   "cell_type": "markdown",
   "id": "b6e78f23-4e4c-4e12-b1ec-7fefaf99c53d",
   "metadata": {},
   "source": [
    "Q16. Remove a random element from a set."
   ]
  },
  {
   "cell_type": "code",
   "execution_count": 178,
   "id": "cd1d6336-a7c5-4419-96b6-41574a5ef957",
   "metadata": {},
   "outputs": [
    {
     "name": "stdout",
     "output_type": "stream",
     "text": [
      "{1, 2, 3, 4, 5}\n"
     ]
    }
   ],
   "source": [
    "my_set = {1, 2, 3, 4, 5, 6}\n",
    "random_element=random.choice(list(my_set))\n",
    "my_set.remove(random_element)\n",
    "print(my_set)"
   ]
  },
  {
   "cell_type": "markdown",
   "id": "6c140dd8-eeb4-4f10-8b66-e651e0f6b2aa",
   "metadata": {},
   "source": [
    "Q17. Pop an element from a set."
   ]
  },
  {
   "cell_type": "code",
   "execution_count": 179,
   "id": "ca458b94-4e8e-4333-a5b2-12d1ecd55586",
   "metadata": {},
   "outputs": [
    {
     "name": "stdout",
     "output_type": "stream",
     "text": [
      "{2, 3, 4, 5, 6}\n"
     ]
    }
   ],
   "source": [
    "my_set = {1, 2, 3, 4, 5, 6}\n",
    "my_set.pop()\n",
    "print(my_set)"
   ]
  },
  {
   "cell_type": "markdown",
   "id": "aca2d94a-1502-41c3-9f55-1a0a6f7effed",
   "metadata": {},
   "source": [
    "Q18. Check if two sets have no elements in common."
   ]
  },
  {
   "cell_type": "code",
   "execution_count": 180,
   "id": "db5db1c3-3828-44f1-8125-db8b8f8c8c6f",
   "metadata": {},
   "outputs": [
    {
     "name": "stdout",
     "output_type": "stream",
     "text": [
      "There is no common element\n"
     ]
    }
   ],
   "source": [
    "set1={1,2,3,4}\n",
    "set2={5,6,7,8}\n",
    "# The intersection is the set of elements that are common to both sets\n",
    "common_elements = set1.intersection(set2)\n",
    "if not common_elements:\n",
    "    print(\"There is no common element\")\n",
    "else:\n",
    "    print(\"There is common element\")"
   ]
  },
  {
   "cell_type": "markdown",
   "id": "89439653-1af7-4a18-b006-402d39e605b6",
   "metadata": {},
   "source": [
    "Q19. Find the symmetric difference between two sets."
   ]
  },
  {
   "cell_type": "code",
   "execution_count": 181,
   "id": "1cb8942a-c996-4b18-915e-53c7ef70c583",
   "metadata": {},
   "outputs": [
    {
     "name": "stdout",
     "output_type": "stream",
     "text": [
      "{1, 2, 5, 6}\n"
     ]
    }
   ],
   "source": [
    "set1={1,2,3,4}\n",
    "set2={3,4,5,6}\n",
    "# Calculate the symmetric difference using the ^ operator\n",
    "symmetric_difference=set1^set2\n",
    "print(symmetric_difference)"
   ]
  },
  {
   "cell_type": "markdown",
   "id": "d5a5c24a-3a23-4d7e-965d-f8984656a1c5",
   "metadata": {},
   "source": [
    "Q20. Update a set with elements from another set."
   ]
  },
  {
   "cell_type": "code",
   "execution_count": 182,
   "id": "1ca2e35f-f192-49be-b03e-a74b9eb70e42",
   "metadata": {},
   "outputs": [
    {
     "name": "stdout",
     "output_type": "stream",
     "text": [
      "{1, 2, 3, 4, 5, 6, 7, 8}\n"
     ]
    }
   ],
   "source": [
    "set1={1,2,3,4}\n",
    "set2={5,6,7,8}\n",
    "set1.update(set2)\n",
    "print(set1)"
   ]
  },
  {
   "cell_type": "markdown",
   "id": "df03b271-71bc-4d7c-909e-45aed5702729",
   "metadata": {},
   "source": [
    "Q21. Create a set of the first 5 prime numbers."
   ]
  },
  {
   "cell_type": "code",
   "execution_count": 183,
   "id": "dd6e7c97-5e04-4214-85be-2035cfb4187f",
   "metadata": {},
   "outputs": [
    {
     "name": "stdout",
     "output_type": "stream",
     "text": [
      "{2, 3, 5, 7, 11}\n"
     ]
    }
   ],
   "source": [
    "def is_prime(num):\n",
    "    if num<=1:\n",
    "        return False\n",
    "    for i in range(2,num):\n",
    "        if num%i==0:\n",
    "            return False\n",
    "    return True\n",
    "prime_set=set()\n",
    "for num in range(2,12):\n",
    "    if is_prime(num):\n",
    "        prime_set.add(num)\n",
    "print(prime_set)"
   ]
  },
  {
   "cell_type": "markdown",
   "id": "630133d6-b7df-496b-b846-7176dba9335a",
   "metadata": {},
   "source": [
    "Q22. Check if two sets are identical."
   ]
  },
  {
   "cell_type": "code",
   "execution_count": 184,
   "id": "44a75ad1-7b20-4623-a034-e59477cee7fc",
   "metadata": {},
   "outputs": [
    {
     "name": "stdout",
     "output_type": "stream",
     "text": [
      "sets are identical to each other\n"
     ]
    }
   ],
   "source": [
    "set1={1,2,3,4,5}\n",
    "set2={3,4,2,1,5}# The order of elements doesn't matter in sets\n",
    "#Check if the sets are identical using the `==` operator\n",
    "if set1==set2:\n",
    "    print(\"sets are identical to each other\")\n",
    "else:\n",
    "    print(\"sets are not identical to each other\")"
   ]
  },
  {
   "cell_type": "markdown",
   "id": "11caa248-73e3-485e-a0b3-8ff455693e22",
   "metadata": {},
   "source": [
    "Q23. Create a frozen set."
   ]
  },
  {
   "cell_type": "code",
   "execution_count": 185,
   "id": "c4226928-0bb5-42a6-94bc-feca18d9b73c",
   "metadata": {},
   "outputs": [
    {
     "name": "stdout",
     "output_type": "stream",
     "text": [
      "frozenset({1, 2, 3, 4, 5})\n"
     ]
    }
   ],
   "source": [
    "element={1,2,3,4,5}\n",
    "my_frozen_set=frozenset(element)\n",
    "print(my_frozen_set)"
   ]
  },
  {
   "cell_type": "markdown",
   "id": "601809f6-aa4e-4453-b87b-0e525c8a70d6",
   "metadata": {},
   "source": [
    "Q24. Check if a set is disjoint with another set."
   ]
  },
  {
   "cell_type": "code",
   "execution_count": 186,
   "id": "07d02ecf-4577-48aa-9f33-6b724cdb08cf",
   "metadata": {},
   "outputs": [
    {
     "name": "stdout",
     "output_type": "stream",
     "text": [
      "True\n"
     ]
    }
   ],
   "source": [
    "set1={1,2,3,4}\n",
    "set2={5,6,7,8}\n",
    "#Use the `isdisjoint()` method to check if the sets are disjoint\n",
    "# The `isdisjoint()` method returns True if the sets have no common elements,\n",
    "# and False if they have at least one common element\n",
    "disjoint_status = set1.isdisjoint(set2)\n",
    "print(disjoint_status)"
   ]
  },
  {
   "cell_type": "markdown",
   "id": "5663e51d-214c-46d4-8d82-bd6fbca35869",
   "metadata": {},
   "source": [
    "Q25. Create a set of squares of numbers from 1 to 5."
   ]
  },
  {
   "cell_type": "code",
   "execution_count": 187,
   "id": "97487d6b-6fd7-47cc-97bf-6aa184a4595a",
   "metadata": {},
   "outputs": [
    {
     "name": "stdout",
     "output_type": "stream",
     "text": [
      "{1, 4, 9, 16, 25}\n"
     ]
    }
   ],
   "source": [
    "square_no = set([i*i for i in range(1,6)])\n",
    "print(square_no)"
   ]
  },
  {
   "cell_type": "markdown",
   "id": "70190f49-7900-4d08-92eb-ac2a5a801124",
   "metadata": {},
   "source": [
    "Q26. Filter out all even numbers from a set."
   ]
  },
  {
   "cell_type": "code",
   "execution_count": 188,
   "id": "5e8b30c5-57c5-40b0-b1bc-f885742ee630",
   "metadata": {},
   "outputs": [
    {
     "name": "stdout",
     "output_type": "stream",
     "text": [
      "{8, 2, 4, 6}\n"
     ]
    }
   ],
   "source": [
    "my_set={1,2,3,4,5,6,7,8}\n",
    "even_set = set([i for i in my_set if i%2==0])\n",
    "print(even_set)"
   ]
  },
  {
   "cell_type": "markdown",
   "id": "6ceef28b-6ffe-4d76-ad09-628278ce7a2d",
   "metadata": {},
   "source": [
    "Q27. Multiply all elements in a set by 2."
   ]
  },
  {
   "cell_type": "code",
   "execution_count": 189,
   "id": "f42445d3-ad47-4dfe-8e1a-0930ee08c51d",
   "metadata": {},
   "outputs": [
    {
     "name": "stdout",
     "output_type": "stream",
     "text": [
      "{2, 4, 6, 8, 10, 12, 14, 16}\n"
     ]
    }
   ],
   "source": [
    "my_set={1,2,3,4,5,6,7,8}\n",
    "multiple_set = set([2*i for i in my_set])\n",
    "print(multiple_set)"
   ]
  },
  {
   "cell_type": "markdown",
   "id": "128884d2-10a2-451d-b4bf-97e835a759fe",
   "metadata": {},
   "source": [
    "Q28. Create a set of random numbers."
   ]
  },
  {
   "cell_type": "code",
   "execution_count": 190,
   "id": "6fd0808c-a51e-470a-aae6-d48a93ba7b32",
   "metadata": {},
   "outputs": [
    {
     "name": "stdout",
     "output_type": "stream",
     "text": [
      "{42, 16, 24, 60, 95}\n"
     ]
    }
   ],
   "source": [
    "import random\n",
    "random_set=set(random.randint(1,100) for _ in range(5))\n",
    "print(random_set)"
   ]
  },
  {
   "cell_type": "markdown",
   "id": "f3597ee7-fb95-4789-b68e-fb50f5be67bb",
   "metadata": {},
   "source": [
    "Q29. Check if a set is empty."
   ]
  },
  {
   "cell_type": "code",
   "execution_count": 191,
   "id": "57e7fc65-55db-4887-8e3f-3d21ccbb92cc",
   "metadata": {},
   "outputs": [
    {
     "name": "stdout",
     "output_type": "stream",
     "text": [
      "set is  empty\n"
     ]
    }
   ],
   "source": [
    "my_set=set()\n",
    "if not my_set:\n",
    "    print('set is  empty')\n",
    "else:\n",
    "    print('set is not empty')"
   ]
  },
  {
   "cell_type": "markdown",
   "id": "9d423878-66fb-4953-aa33-e1f1022bc2eb",
   "metadata": {},
   "source": [
    "Q30. Create a nested set (hint: use frozenset)."
   ]
  },
  {
   "cell_type": "code",
   "execution_count": 192,
   "id": "947b067f-c896-4f3a-9d37-af3a11ef7d7c",
   "metadata": {},
   "outputs": [
    {
     "name": "stdout",
     "output_type": "stream",
     "text": [
      "{frozenset({1, 2, 3, 4}), frozenset({8, 5, 6, 7})}\n"
     ]
    }
   ],
   "source": [
    "set1={1,2,3,4}\n",
    "set2={5,6,7,8}\n",
    "frozen_set1=frozenset(set1)\n",
    "frozen_set2=frozenset(set2)\n",
    "nested_set={frozen_set1,frozen_set2}\n",
    "print(nested_set)          "
   ]
  },
  {
   "cell_type": "markdown",
   "id": "3ae19999-860b-483e-baa2-6f5987ae0736",
   "metadata": {},
   "source": [
    "Q31. Remove an element from a set using the discard method."
   ]
  },
  {
   "cell_type": "code",
   "execution_count": 193,
   "id": "9d1efb7a-0027-4139-8ab0-74e137013f68",
   "metadata": {},
   "outputs": [
    {
     "name": "stdout",
     "output_type": "stream",
     "text": [
      "{1, 2, 4}\n"
     ]
    }
   ],
   "source": [
    "set1={1,2,3,4}\n",
    "set1.discard(3)\n",
    "print(set1)"
   ]
  },
  {
   "cell_type": "markdown",
   "id": "92f6f96f-d8d8-438d-941c-a303474092e2",
   "metadata": {},
   "source": [
    "Q32. Compare two sets."
   ]
  },
  {
   "cell_type": "code",
   "execution_count": 194,
   "id": "a1086080-de82-4ba8-bb64-c77fce186468",
   "metadata": {},
   "outputs": [
    {
     "name": "stdout",
     "output_type": "stream",
     "text": [
      "Set 1: {1, 2, 3, 4}\n",
      "Set 2: {4, 5, 6, 7}\n",
      "Is set1 a subset of set2? False\n",
      "Is set2 a subset of set1? False\n",
      "Intersection: {4}\n",
      "Union: {1, 2, 3, 4, 5, 6, 7}\n",
      "Elements in set1 but not in set2: {1, 2, 3}\n",
      "Elements in set2 but not in set1: {5, 6, 7}\n"
     ]
    }
   ],
   "source": [
    "set1 = {1, 2, 3, 4}\n",
    "set2 = {4, 5, 6, 7}\n",
    "\n",
    "# Step 2: Use set operations to compare the sets\n",
    "# Check if set1 is a subset of set2\n",
    "is_subset = set1.issubset(set2)\n",
    "\n",
    "# Check if set2 is a subset of set1\n",
    "is_superset = set1.issuperset(set2)\n",
    "\n",
    "# Find the intersection of the sets\n",
    "intersection = set1.intersection(set2)\n",
    "\n",
    "# Find the union of the sets\n",
    "union = set1.union(set2)\n",
    "\n",
    "# Find the elements that are in set1 but not in set2\n",
    "difference1 = set1.difference(set2)\n",
    "\n",
    "# Find the elements that are in set2 but not in set1\n",
    "difference2 = set2.difference(set1)\n",
    "\n",
    "# Step 3: Print the results\n",
    "print(\"Set 1:\", set1)\n",
    "print(\"Set 2:\", set2)\n",
    "print(\"Is set1 a subset of set2?\", is_subset)\n",
    "print(\"Is set2 a subset of set1?\", is_superset)\n",
    "print(\"Intersection:\", intersection)\n",
    "print(\"Union:\", union)\n",
    "print(\"Elements in set1 but not in set2:\", difference1)\n",
    "print(\"Elements in set2 but not in set1:\", difference2)"
   ]
  },
  {
   "cell_type": "markdown",
   "id": "47bf5d0e-cef7-4751-a17e-13ed992e6af9",
   "metadata": {},
   "source": [
    "Q33. Create a set from a string."
   ]
  },
  {
   "cell_type": "code",
   "execution_count": 195,
   "id": "0ddd6a16-4d71-43f7-a8db-eecd3419eb30",
   "metadata": {},
   "outputs": [
    {
     "name": "stdout",
     "output_type": "stream",
     "text": [
      "{' ', 'o', 'l', '!', 'H', 'W', 'e', 'r', 'd'}\n"
     ]
    }
   ],
   "source": [
    "input_string = \"Hello World!\"\n",
    "#Use the set() constructor to create a set from the characters in the string\n",
    "char_set = set(input_string)\n",
    "print(char_set)"
   ]
  },
  {
   "cell_type": "markdown",
   "id": "5c6e2160-893f-4405-847e-a676a206638f",
   "metadata": {},
   "source": [
    "Q34. Convert a set of strings to a set of integers."
   ]
  },
  {
   "cell_type": "code",
   "execution_count": 196,
   "id": "06b621d0-bab6-48bd-9d36-aef25d6fe4aa",
   "metadata": {},
   "outputs": [
    {
     "name": "stdout",
     "output_type": "stream",
     "text": [
      "{456, 123, 789}\n"
     ]
    }
   ],
   "source": [
    "string_set={\"123\",\"456\",\"789\"}\n",
    "integer_set = set()\n",
    "for string in string_set:\n",
    "    integer_value = int(string)\n",
    "    integer_set.add(integer_value)\n",
    "print(integer_set)"
   ]
  },
  {
   "cell_type": "markdown",
   "id": "eab90463-53cb-484d-9088-90612fb3d58b",
   "metadata": {},
   "source": [
    "Q35. Convert a set of integers to a set of strings."
   ]
  },
  {
   "cell_type": "code",
   "execution_count": 197,
   "id": "9fa1897e-24bc-4a25-92cc-ba40ce408a16",
   "metadata": {},
   "outputs": [
    {
     "name": "stdout",
     "output_type": "stream",
     "text": [
      "{'456', '123', '789'}\n"
     ]
    }
   ],
   "source": [
    "integer_set={456, 123, 789}\n",
    "string_set=set()\n",
    "for num in integer_set:\n",
    "    num_str=str(num)\n",
    "    string_set.add(num_str)\n",
    "print(string_set)"
   ]
  },
  {
   "cell_type": "markdown",
   "id": "185b6c29-634a-441c-a45a-e0558820e82a",
   "metadata": {},
   "source": [
    "Q36. Create a set from a tuple."
   ]
  },
  {
   "cell_type": "code",
   "execution_count": 198,
   "id": "ceae244f-8b4b-4da6-8fd8-fe0392606dc8",
   "metadata": {},
   "outputs": [
    {
     "name": "stdout",
     "output_type": "stream",
     "text": [
      "{1, 2, 3, 4, 5}\n"
     ]
    }
   ],
   "source": [
    "my_tuple=(1,2,3,4,5)\n",
    "my_set=set(my_tuple)\n",
    "print(my_set)"
   ]
  },
  {
   "cell_type": "markdown",
   "id": "14c1a57e-4b32-4494-9257-c4bb20ffe63b",
   "metadata": {},
   "source": [
    "Q37. Convert a set to a tuple."
   ]
  },
  {
   "cell_type": "code",
   "execution_count": 199,
   "id": "3c3db921-4d09-4f0d-8437-ef9d319bcd51",
   "metadata": {},
   "outputs": [
    {
     "name": "stdout",
     "output_type": "stream",
     "text": [
      "(1, 2, 3, 4, 5)\n"
     ]
    }
   ],
   "source": [
    "my_set={1,2,3,4,5}\n",
    "my_tuple=tuple(my_set)\n",
    "print(my_tuple)"
   ]
  },
  {
   "cell_type": "markdown",
   "id": "42fde1df-398e-4e07-b844-81717f7560a4",
   "metadata": {},
   "source": [
    "Q38.Find the maximum value in a set."
   ]
  },
  {
   "cell_type": "code",
   "execution_count": 200,
   "id": "ab6f8317-794e-4068-b9f1-8efd09545707",
   "metadata": {},
   "outputs": [
    {
     "name": "stdout",
     "output_type": "stream",
     "text": [
      "Max value :  60\n"
     ]
    }
   ],
   "source": [
    "my_set = {1,3,6,8,52,19,60}\n",
    "max_value=None\n",
    "for num in my_set:\n",
    "    if max_value is None or num>max_value:\n",
    "        max_value=num\n",
    "print(\"Max value : \",max_value)"
   ]
  },
  {
   "cell_type": "markdown",
   "id": "d1442a11-430c-4d37-884c-05a4666a8e42",
   "metadata": {},
   "source": [
    "Q39. Find the minimum value in a set."
   ]
  },
  {
   "cell_type": "code",
   "execution_count": 201,
   "id": "0e0d064b-d3b3-4a26-aeb2-9d597fa7d1cf",
   "metadata": {},
   "outputs": [
    {
     "name": "stdout",
     "output_type": "stream",
     "text": [
      "Min value :  1\n"
     ]
    }
   ],
   "source": [
    "my_set = {1,3,6,8,52,19,60}\n",
    "min_value=None\n",
    "for num in my_set:\n",
    "    if min_value is None or num<min_value:\n",
    "        min_value=num\n",
    "print(\"Min value : \",min_value)"
   ]
  },
  {
   "cell_type": "markdown",
   "id": "3fbba3ce-4cd6-411e-8134-7199895d3377",
   "metadata": {},
   "source": [
    "Q40. Create a set from user input."
   ]
  },
  {
   "cell_type": "code",
   "execution_count": 203,
   "id": "265200ce-30dc-4847-b7ed-79ed1ba89bfc",
   "metadata": {},
   "outputs": [
    {
     "name": "stdout",
     "output_type": "stream",
     "text": [
      "Enter the element for the set : vaibhav\n",
      "Enter the element for the set : bansal\n",
      "Enter the element for the set : done\n",
      "Final set :  {'bansal', 'vaibhav'}\n"
     ]
    }
   ],
   "source": [
    "user_set=set()\n",
    "while True:\n",
    "    user_input=input(\"Enter the element for the set : \")\n",
    "    if user_input.lower()==\"done\":\n",
    "        break\n",
    "    user_set.add(user_input)\n",
    "print(\"Final set : \",user_set)"
   ]
  },
  {
   "cell_type": "markdown",
   "id": "afd52c2a-b2a4-47c0-a223-8e56fad8b244",
   "metadata": {},
   "source": [
    "Q41. Check if the intersection of two sets is empty."
   ]
  },
  {
   "cell_type": "code",
   "execution_count": 204,
   "id": "445221f0-0f60-4242-9e2d-4f202120c0f4",
   "metadata": {},
   "outputs": [
    {
     "name": "stdout",
     "output_type": "stream",
     "text": [
      "Intersection of two set is not empty\n"
     ]
    }
   ],
   "source": [
    "set1= {1,2,3,4,5}\n",
    "set2={4,5,6,7,8}\n",
    "intersection_result = set1.intersection(set2)\n",
    "if not intersection_result:\n",
    "    print(\"Intersection of two set is empty\")\n",
    "else:\n",
    "    print(\"Intersection of two set is not empty\")"
   ]
  },
  {
   "cell_type": "markdown",
   "id": "9b3e118c-b6f1-4b6c-bac2-7dfc8b144dbe",
   "metadata": {},
   "source": [
    "Q42. Create a set of the first 5 Fibonacci numbers."
   ]
  },
  {
   "cell_type": "code",
   "execution_count": 205,
   "id": "ea4acf56-6d87-4ab4-84f1-ed2b08f3538f",
   "metadata": {},
   "outputs": [
    {
     "name": "stdout",
     "output_type": "stream",
     "text": [
      "The set of first 5 fibonaaci number is : {0, 1, 2, 3}\n"
     ]
    }
   ],
   "source": [
    "def fib(n):\n",
    "    if n==0:\n",
    "        return 0\n",
    "    elif n==1:\n",
    "        return 1\n",
    "    else:\n",
    "        return fib(n-2)+fib(n-1)\n",
    "fib_set=set()\n",
    "for i in range(5):\n",
    "    fib_set.add(fib(i))\n",
    "print(f\"The set of first 5 fibonaaci number is : {fib_set}\")"
   ]
  },
  {
   "cell_type": "markdown",
   "id": "293b0c19-3940-4f2f-91e5-2bf568404a62",
   "metadata": {},
   "source": [
    "Q43. Remove duplicates from a list using sets."
   ]
  },
  {
   "cell_type": "code",
   "execution_count": 206,
   "id": "636a8371-4f42-4a1d-8e8b-f7830c0ab5c5",
   "metadata": {},
   "outputs": [
    {
     "name": "stdout",
     "output_type": "stream",
     "text": [
      "[1, 2, 3, 4, 5, 6, 8]\n"
     ]
    }
   ],
   "source": [
    "my_list=[1,2,3,4,5,6,3,2,4,6,8]\n",
    "unique_set=set(my_list)\n",
    "unique_list=list(unique_set)\n",
    "print(unique_list)"
   ]
  },
  {
   "cell_type": "markdown",
   "id": "04ed1c0d-bed9-4e0c-9d9d-aa540d163c28",
   "metadata": {},
   "source": [
    "Q44. Check if two sets have the same elements, regardless of their count."
   ]
  },
  {
   "cell_type": "code",
   "execution_count": 207,
   "id": "299a2f21-79c7-4a7b-b163-e1f216843312",
   "metadata": {},
   "outputs": [
    {
     "name": "stdout",
     "output_type": "stream",
     "text": [
      "Set have same element\n"
     ]
    }
   ],
   "source": [
    "def set_have_same_element(set1,set2):\n",
    "    return set1 == set2\n",
    "set1={1,4,5,3,2}\n",
    "set2={3,4,2,1,5,1,2,3,4}\n",
    "if set_have_same_element(set1,set2):\n",
    "    print(\"Set have same element\")\n",
    "else:\n",
    "    print(\"Set do not have same element\")"
   ]
  },
  {
   "cell_type": "markdown",
   "id": "8ee03c93-b101-4993-bd4d-e4376efe47b6",
   "metadata": {},
   "source": [
    "Q45. Create a set of the first `n` powers of 2."
   ]
  },
  {
   "cell_type": "code",
   "execution_count": 208,
   "id": "6d44e9cf-9d59-4502-b87e-f7d3a48000a7",
   "metadata": {},
   "outputs": [
    {
     "name": "stdout",
     "output_type": "stream",
     "text": [
      "Set of first n power of 2 is :  {1, 2, 4, 8, 16}\n"
     ]
    }
   ],
   "source": [
    "n=5\n",
    "power_of_2_set=set([2**i for i in range(5)])\n",
    "print(\"Set of first n power of 2 is : \",power_of_2_set)"
   ]
  },
  {
   "cell_type": "markdown",
   "id": "a0f55d95-6564-4444-bab4-6d916d81cbeb",
   "metadata": {},
   "source": [
    "Q46. Find the common elements between a set and a list."
   ]
  },
  {
   "cell_type": "code",
   "execution_count": 209,
   "id": "6732f901-6a24-418d-b33f-e3deaddb5524",
   "metadata": {},
   "outputs": [
    {
     "name": "stdout",
     "output_type": "stream",
     "text": [
      "common elements :  [1, 2, 3]\n"
     ]
    }
   ],
   "source": [
    "my_set={1,2,3,5}\n",
    "my_list=[1,2,3,4,8,1,6,7]\n",
    "list_to_set = set(my_list)\n",
    "\n",
    "common_elements=[]\n",
    "for element in my_set:\n",
    "    if element in list_to_set:\n",
    "        common_elements.append(element)\n",
    "print(\"common elements : \",common_elements)"
   ]
  },
  {
   "cell_type": "markdown",
   "id": "8b485263-d5ef-4683-81b4-53932e1231fe",
   "metadata": {},
   "source": [
    "Q47. Create a set of the first `n` triangular numbers."
   ]
  },
  {
   "cell_type": "code",
   "execution_count": 210,
   "id": "b9cbb19d-d334-420f-950f-45c81212c0d5",
   "metadata": {},
   "outputs": [
    {
     "name": "stdout",
     "output_type": "stream",
     "text": [
      "Set of the first n triangular number :  {1, 3, 6, 10, 15}\n"
     ]
    }
   ],
   "source": [
    "def triangular_number(n):\n",
    "    return [i*(i+1)//2 for i in range(1,n+1)]\n",
    "n=5\n",
    "triangular_list = triangular_number(n)\n",
    "triangular_set=set(triangular_list)\n",
    "print(\"Set of the first n triangular number : \",triangular_set)"
   ]
  },
  {
   "cell_type": "markdown",
   "id": "5ee38bbb-2f1a-4749-8414-e20c0393bdac",
   "metadata": {},
   "source": [
    "Q48. Check if a set contains another set as a subset."
   ]
  },
  {
   "cell_type": "code",
   "execution_count": 211,
   "id": "7b380c63-7772-4bd2-b8b2-1480b9a21683",
   "metadata": {},
   "outputs": [
    {
     "name": "stdout",
     "output_type": "stream",
     "text": [
      "set2 is subset of set1\n"
     ]
    }
   ],
   "source": [
    "set1={1,2,3,4,5}\n",
    "set2={1,2}\n",
    "is_subset = set2.issubset(set1)\n",
    "if is_subset:\n",
    "    print(\"set2 is subset of set1\")\n",
    "else:\n",
    "    print(\"set2 is not subset of set1\")"
   ]
  },
  {
   "cell_type": "markdown",
   "id": "ea408d59-f187-4b84-a781-2e50db8a1289",
   "metadata": {},
   "source": [
    "Q49. Create a set of alternating 1s and 0s of length `n`."
   ]
  },
  {
   "cell_type": "code",
   "execution_count": 212,
   "id": "fa04b53b-79bc-4799-b1a5-eef1f90b8074",
   "metadata": {},
   "outputs": [
    {
     "name": "stdout",
     "output_type": "stream",
     "text": [
      "{0, 1}\n"
     ]
    }
   ],
   "source": [
    "n=10\n",
    "alternating_set=set([i%2 for i in range(10)])\n",
    "print(alternating_set)"
   ]
  },
  {
   "cell_type": "markdown",
   "id": "a4d46354-7d84-4e17-a9db-b673f0207ceb",
   "metadata": {},
   "source": [
    "Q50. Merge multiple sets into one."
   ]
  },
  {
   "cell_type": "code",
   "execution_count": 213,
   "id": "f9887698-8f92-4763-a1d9-62470e524ec4",
   "metadata": {},
   "outputs": [
    {
     "name": "stdout",
     "output_type": "stream",
     "text": [
      "{1, 2, 3, 4, 5, 6, 7, 8, 9}\n"
     ]
    }
   ],
   "source": [
    "set1={1,2,3,4}\n",
    "set2={5,6,7,8}\n",
    "set3={2,4,5,9}\n",
    "merged_set=set1.union(set2,set3)\n",
    "print(merged_set)"
   ]
  },
  {
   "cell_type": "markdown",
   "id": "19126d01-b4bd-482c-9212-a669c1394d09",
   "metadata": {},
   "source": [
    "or"
   ]
  },
  {
   "cell_type": "code",
   "execution_count": 214,
   "id": "8e697d47-0674-4158-8895-f49eb835474c",
   "metadata": {},
   "outputs": [
    {
     "name": "stdout",
     "output_type": "stream",
     "text": [
      "{1, 2, 3, 4, 5, 6, 7, 8, 9}\n"
     ]
    }
   ],
   "source": [
    "set1={1,2,3,4}\n",
    "set2={5,6,7,8}\n",
    "set3={2,4,5,9}\n",
    "#we can merge the set by using bitwise operator(|)\n",
    "merged_set=set1 | set2 | set3\n",
    "print(merged_set)"
   ]
  },
  {
   "cell_type": "code",
   "execution_count": null,
   "id": "46d7493c-e6d8-4fc6-9ec3-cd948720622a",
   "metadata": {},
   "outputs": [],
   "source": []
  }
 ],
 "metadata": {
  "kernelspec": {
   "display_name": "Python 3 (ipykernel)",
   "language": "python",
   "name": "python3"
  },
  "language_info": {
   "codemirror_mode": {
    "name": "ipython",
    "version": 3
   },
   "file_extension": ".py",
   "mimetype": "text/x-python",
   "name": "python",
   "nbconvert_exporter": "python",
   "pygments_lexer": "ipython3",
   "version": "3.11.5"
  }
 },
 "nbformat": 4,
 "nbformat_minor": 5
}
